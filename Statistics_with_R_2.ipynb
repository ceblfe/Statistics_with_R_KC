{
 "cells": [
  {
   "cell_type": "markdown",
   "metadata": {},
   "source": [
    "# Introducción\n",
    "\n",
    "En esta práctica vamos a repasar diferentes tests estadísticos. Para ello nos ayudamos de los datos publicados por BCSC:\n",
    "*NCI-funded Breast Cancer Surveillance Consortium (P01 CA154292 and HHSN261201100031C). Downloaded mm/dd/yyyy from the Breast Cancer Surveillance Consortium Web site - http://www.bcsc-research.org/data/index.html.*\n",
    "\n",
    "Concretamente a través de este enlace:\n",
    "http://www.bcsc-research.org/data/rf/app2/DownloadRequest.aspx\n",
    "\n",
    "\n",
    "El fichero *BCSC_risk_factors_summarized.csv* descargado lo teneis en la carpeta *data*.\n",
    "\n",
    "Ese fichero es un CSV, la descripción de cada columna se puede ver en la siguiente tabla:"
   ]
  },
  {
   "cell_type": "markdown",
   "metadata": {},
   "source": [
    "\n",
    "| Nombre de variable | Descripción | Código | \n",
    "|-|-|-|\n",
    "| year | Año de la observación | Numérico, 2000-2009 |\n",
    "| year_group_5_years| Edad (años) en grupos de 5 años |  1 = Edad 18-29;  2 = Edad 30-34; 3 = Edad 35-39; 4 = Edad 40-44; 5 = Edad 45-49; 6 = Edad 50-54; 7 = Edad 55-59; 8 = Edad 60-64; 9 = Edad 65-69; 10 = Edad 70-74; 11 = Edad 75-79; 12 = Edad 80-84; 13 = Edad ≥85 |\n",
    "| race_eth | Grupo étnico | 1 = Non-Hispanic white; 2 = Non-Hispanic black; 3 = Asian/Pacific Islander; 4 = Native American; 5 = Hispanic; 6 = Other/mixed; 9 = Desconocido |\n",
    "| first_degree_hx | Historial de cancer de un familiar de primer grado | 0 = No; 1 = Sí; 9 = Desconocido |\n",
    "| Edad_menarche | Edad (años) at menarche |0 = Edad ≥14; 1 = Edad 12-13; 2 = Edad <12; 9 = Desconocido\n",
    "| Edad_first_birth | Edad (años) at first birth | 0 = Edad < 20; 1 = Edad 20-24; 2 = Edad 25-29; 3 = Edad ≥30; 4 = Nulliparous; 9 = Desconocido |\n",
    "| BIRADS_breast_density | BI-RADS densidad del cancer de pecho| 1 = Almost entirely fat; 2 =Scattered fibroglandular densities; 3 = Heterogeneously dense; 4 = Extremely dense; 9 = Desconocido |\n",
    "| current_hrt | Uso de terapia de hormonas de reemplazo | 0 = No; 1 = Sí; 9 = Desconocido |\n",
    "| menopaus | Menopausal status | 1 = Pre- or peri-menopausal; 2 = Post-menopausal; 3 = Surgical menopause; 9 = Desconocido |\n",
    "| bmi_group |  Body mass index | 1 = 10-24.99; 2 = 25-29.99; 3 = 30-34.99; 4 = 35 or more; 9 = Desconocido |\n",
    "| biophx | Biopsia previa o aspiración | 0 = No; 1 = Sí; 9 = Desconocido |\n",
    "| breast_cancer_history | Cancer diagnosticado con anterioridad | 0 = No; 1 = Sí; 9 = Desconocido |\n",
    "| count | Número de ocurrencias de estas covariables | Numérico|\n",
    "\n",
    "\n"
   ]
  },
  {
   "cell_type": "markdown",
   "metadata": {},
   "source": [
    "Leemos los datos del csv y los adaptamos. Pasos a seguir:\n",
    "1. Replicamos las filas indicadas por la columna *count*\n",
    "2. Los datos son muy grandes, para agilizar la práctica nos quedamos con 5000 muestras elegidas con muestreo aleatorio simple. El resto se puede descartar.\n",
    "3. Se adapta el resto"
   ]
  },
  {
   "cell_type": "code",
   "execution_count": null,
   "metadata": {},
   "outputs": [],
   "source": [
    "# Limpiar primero la tabla. Reemplazar los 9 por NA\n",
    "# En year_group_5_years reemplazar los rangos de edad por la edad media"
   ]
  },
  {
   "cell_type": "code",
   "execution_count": 1,
   "metadata": {},
   "outputs": [],
   "source": [
    "breastCancer<-read.csv(\"./data/BCSC_risk_factors_summarized.csv\", sep = \",\")"
   ]
  },
  {
   "cell_type": "code",
   "execution_count": null,
   "metadata": {},
   "outputs": [],
   "source": [
    "summary(breastCancer$count)"
   ]
  },
  {
   "cell_type": "code",
   "execution_count": null,
   "metadata": {},
   "outputs": [],
   "source": [
    "head(breastCancer)"
   ]
  },
  {
   "cell_type": "code",
   "execution_count": null,
   "metadata": {},
   "outputs": [],
   "source": [
    "str(breastCancer)"
   ]
  },
  {
   "cell_type": "code",
   "execution_count": 2,
   "metadata": {},
   "outputs": [],
   "source": [
    "breastCancerReplicate <- breastCancer[rep(row.names(breastCancer),breastCancer$count),1:12]"
   ]
  },
  {
   "cell_type": "code",
   "execution_count": null,
   "metadata": {},
   "outputs": [],
   "source": [
    "str(breastCancerReplicate)"
   ]
  },
  {
   "cell_type": "markdown",
   "metadata": {},
   "source": [
    "El número de filas tras replicar las filas indicadas por la columna *count* es de 6318638. Como este número es muy alto para la máquina virtual que tenemos vamos a realizar una muestreo aleatorio simple y nos quedaremos con 5000 filas. El resto se descartan.\n",
    "\n",
    "*Nota:*Para el muestreo usad la semilla 12345, de esta forma todos tendresmos exactamente los mismos resultados."
   ]
  },
  {
   "cell_type": "code",
   "execution_count": 3,
   "metadata": {},
   "outputs": [
    {
     "data": {
      "text/html": [
       "<table>\n",
       "<thead><tr><th></th><th scope=col>year</th><th scope=col>age_group_5_years</th><th scope=col>race_eth</th><th scope=col>first_degree_hx</th><th scope=col>age_menarche</th><th scope=col>age_first_birth</th><th scope=col>BIRADS_breast_density</th><th scope=col>current_hrt</th><th scope=col>menopaus</th><th scope=col>bmi_group</th><th scope=col>biophx</th><th scope=col>breast_cancer_history</th></tr></thead>\n",
       "<tbody>\n",
       "\t<tr><th scope=row>792997.89</th><td>2006</td><td>8   </td><td>9   </td><td>9   </td><td>9   </td><td>9   </td><td>2   </td><td>9   </td><td>2   </td><td>9   </td><td>0   </td><td>0   </td></tr>\n",
       "\t<tr><th scope=row>986739.194</th><td>2008</td><td>7   </td><td>2   </td><td>0   </td><td>9   </td><td>9   </td><td>2   </td><td>0   </td><td>2   </td><td>9   </td><td>0   </td><td>0   </td></tr>\n",
       "\t<tr><th scope=row>845393.799</th><td>2007</td><td>5   </td><td>1   </td><td>0   </td><td>9   </td><td>9   </td><td>2   </td><td>0   </td><td>1   </td><td>9   </td><td>0   </td><td>0   </td></tr>\n",
       "\t<tr><th scope=row>996805.11</th><td>2008</td><td>8   </td><td>1   </td><td>1   </td><td>1   </td><td>1   </td><td>2   </td><td>0   </td><td>2   </td><td>2   </td><td>0   </td><td>0   </td></tr>\n",
       "\t<tr><th scope=row>481428.71</th><td>2004</td><td>3   </td><td>1   </td><td>0   </td><td>9   </td><td>9   </td><td>3   </td><td>0   </td><td>1   </td><td>2   </td><td>0   </td><td>0   </td></tr>\n",
       "\t<tr><th scope=row>169906.1</th><td>2001</td><td>6   </td><td>5   </td><td>0   </td><td>9   </td><td>9   </td><td>1   </td><td>1   </td><td>2   </td><td>3   </td><td>0   </td><td>0   </td></tr>\n",
       "</tbody>\n",
       "</table>\n"
      ],
      "text/latex": [
       "\\begin{tabular}{r|llllllllllll}\n",
       "  & year & age\\_group\\_5\\_years & race\\_eth & first\\_degree\\_hx & age\\_menarche & age\\_first\\_birth & BIRADS\\_breast\\_density & current\\_hrt & menopaus & bmi\\_group & biophx & breast\\_cancer\\_history\\\\\n",
       "\\hline\n",
       "\t792997.89 & 2006 & 8    & 9    & 9    & 9    & 9    & 2    & 9    & 2    & 9    & 0    & 0   \\\\\n",
       "\t986739.194 & 2008 & 7    & 2    & 0    & 9    & 9    & 2    & 0    & 2    & 9    & 0    & 0   \\\\\n",
       "\t845393.799 & 2007 & 5    & 1    & 0    & 9    & 9    & 2    & 0    & 1    & 9    & 0    & 0   \\\\\n",
       "\t996805.11 & 2008 & 8    & 1    & 1    & 1    & 1    & 2    & 0    & 2    & 2    & 0    & 0   \\\\\n",
       "\t481428.71 & 2004 & 3    & 1    & 0    & 9    & 9    & 3    & 0    & 1    & 2    & 0    & 0   \\\\\n",
       "\t169906.1 & 2001 & 6    & 5    & 0    & 9    & 9    & 1    & 1    & 2    & 3    & 0    & 0   \\\\\n",
       "\\end{tabular}\n"
      ],
      "text/markdown": [
       "\n",
       "| <!--/--> | year | age_group_5_years | race_eth | first_degree_hx | age_menarche | age_first_birth | BIRADS_breast_density | current_hrt | menopaus | bmi_group | biophx | breast_cancer_history | \n",
       "|---|---|---|---|---|---|\n",
       "| 792997.89 | 2006 | 8    | 9    | 9    | 9    | 9    | 2    | 9    | 2    | 9    | 0    | 0    | \n",
       "| 986739.194 | 2008 | 7    | 2    | 0    | 9    | 9    | 2    | 0    | 2    | 9    | 0    | 0    | \n",
       "| 845393.799 | 2007 | 5    | 1    | 0    | 9    | 9    | 2    | 0    | 1    | 9    | 0    | 0    | \n",
       "| 996805.11 | 2008 | 8    | 1    | 1    | 1    | 1    | 2    | 0    | 2    | 2    | 0    | 0    | \n",
       "| 481428.71 | 2004 | 3    | 1    | 0    | 9    | 9    | 3    | 0    | 1    | 2    | 0    | 0    | \n",
       "| 169906.1 | 2001 | 6    | 5    | 0    | 9    | 9    | 1    | 1    | 2    | 3    | 0    | 0    | \n",
       "\n",
       "\n"
      ],
      "text/plain": [
       "           year age_group_5_years race_eth first_degree_hx age_menarche\n",
       "792997.89  2006 8                 9        9               9           \n",
       "986739.194 2008 7                 2        0               9           \n",
       "845393.799 2007 5                 1        0               9           \n",
       "996805.11  2008 8                 1        1               1           \n",
       "481428.71  2004 3                 1        0               9           \n",
       "169906.1   2001 6                 5        0               9           \n",
       "           age_first_birth BIRADS_breast_density current_hrt menopaus bmi_group\n",
       "792997.89  9               2                     9           2        9        \n",
       "986739.194 9               2                     0           2        9        \n",
       "845393.799 9               2                     0           1        9        \n",
       "996805.11  1               2                     0           2        2        \n",
       "481428.71  9               3                     0           1        2        \n",
       "169906.1   9               1                     1           2        3        \n",
       "           biophx breast_cancer_history\n",
       "792997.89  0      0                    \n",
       "986739.194 0      0                    \n",
       "845393.799 0      0                    \n",
       "996805.11  0      0                    \n",
       "481428.71  0      0                    \n",
       "169906.1   0      0                    "
      ]
     },
     "metadata": {},
     "output_type": "display_data"
    },
    {
     "data": {
      "text/html": [
       "<table>\n",
       "<thead><tr><th></th><th scope=col>year</th><th scope=col>age_group_5_years</th><th scope=col>race_eth</th><th scope=col>first_degree_hx</th><th scope=col>age_menarche</th><th scope=col>age_first_birth</th><th scope=col>BIRADS_breast_density</th><th scope=col>current_hrt</th><th scope=col>menopaus</th><th scope=col>bmi_group</th><th scope=col>biophx</th><th scope=col>breast_cancer_history</th></tr></thead>\n",
       "<tbody>\n",
       "\t<tr><th scope=row>923934.1</th><td>2007</td><td>12  </td><td>1   </td><td>0   </td><td>2   </td><td>9   </td><td>2   </td><td>0   </td><td>2   </td><td>9   </td><td>1   </td><td>0   </td></tr>\n",
       "\t<tr><th scope=row>956422.14</th><td>2008</td><td> 5  </td><td>3   </td><td>0   </td><td>9   </td><td>9   </td><td>3   </td><td>9   </td><td>9   </td><td>9   </td><td>1   </td><td>0   </td></tr>\n",
       "\t<tr><th scope=row>177240.7</th><td>2001</td><td> 7  </td><td>1   </td><td>0   </td><td>9   </td><td>9   </td><td>2   </td><td>9   </td><td>2   </td><td>9   </td><td>0   </td><td>0   </td></tr>\n",
       "\t<tr><th scope=row>1117808.40</th><td>2009</td><td> 9  </td><td>2   </td><td>0   </td><td>9   </td><td>9   </td><td>2   </td><td>0   </td><td>2   </td><td>9   </td><td>1   </td><td>0   </td></tr>\n",
       "\t<tr><th scope=row>711838</th><td>2005</td><td>12  </td><td>1   </td><td>0   </td><td>1   </td><td>1   </td><td>1   </td><td>0   </td><td>2   </td><td>4   </td><td>0   </td><td>0   </td></tr>\n",
       "\t<tr><th scope=row>363863.53</th><td>2003</td><td> 3  </td><td>9   </td><td>0   </td><td>9   </td><td>9   </td><td>2   </td><td>0   </td><td>1   </td><td>9   </td><td>9   </td><td>9   </td></tr>\n",
       "</tbody>\n",
       "</table>\n"
      ],
      "text/latex": [
       "\\begin{tabular}{r|llllllllllll}\n",
       "  & year & age\\_group\\_5\\_years & race\\_eth & first\\_degree\\_hx & age\\_menarche & age\\_first\\_birth & BIRADS\\_breast\\_density & current\\_hrt & menopaus & bmi\\_group & biophx & breast\\_cancer\\_history\\\\\n",
       "\\hline\n",
       "\t923934.1 & 2007 & 12   & 1    & 0    & 2    & 9    & 2    & 0    & 2    & 9    & 1    & 0   \\\\\n",
       "\t956422.14 & 2008 &  5   & 3    & 0    & 9    & 9    & 3    & 9    & 9    & 9    & 1    & 0   \\\\\n",
       "\t177240.7 & 2001 &  7   & 1    & 0    & 9    & 9    & 2    & 9    & 2    & 9    & 0    & 0   \\\\\n",
       "\t1117808.40 & 2009 &  9   & 2    & 0    & 9    & 9    & 2    & 0    & 2    & 9    & 1    & 0   \\\\\n",
       "\t711838 & 2005 & 12   & 1    & 0    & 1    & 1    & 1    & 0    & 2    & 4    & 0    & 0   \\\\\n",
       "\t363863.53 & 2003 &  3   & 9    & 0    & 9    & 9    & 2    & 0    & 1    & 9    & 9    & 9   \\\\\n",
       "\\end{tabular}\n"
      ],
      "text/markdown": [
       "\n",
       "| <!--/--> | year | age_group_5_years | race_eth | first_degree_hx | age_menarche | age_first_birth | BIRADS_breast_density | current_hrt | menopaus | bmi_group | biophx | breast_cancer_history | \n",
       "|---|---|---|---|---|---|\n",
       "| 923934.1 | 2007 | 12   | 1    | 0    | 2    | 9    | 2    | 0    | 2    | 9    | 1    | 0    | \n",
       "| 956422.14 | 2008 |  5   | 3    | 0    | 9    | 9    | 3    | 9    | 9    | 9    | 1    | 0    | \n",
       "| 177240.7 | 2001 |  7   | 1    | 0    | 9    | 9    | 2    | 9    | 2    | 9    | 0    | 0    | \n",
       "| 1117808.40 | 2009 |  9   | 2    | 0    | 9    | 9    | 2    | 0    | 2    | 9    | 1    | 0    | \n",
       "| 711838 | 2005 | 12   | 1    | 0    | 1    | 1    | 1    | 0    | 2    | 4    | 0    | 0    | \n",
       "| 363863.53 | 2003 |  3   | 9    | 0    | 9    | 9    | 2    | 0    | 1    | 9    | 9    | 9    | \n",
       "\n",
       "\n"
      ],
      "text/plain": [
       "           year age_group_5_years race_eth first_degree_hx age_menarche\n",
       "923934.1   2007 12                1        0               2           \n",
       "956422.14  2008  5                3        0               9           \n",
       "177240.7   2001  7                1        0               9           \n",
       "1117808.40 2009  9                2        0               9           \n",
       "711838     2005 12                1        0               1           \n",
       "363863.53  2003  3                9        0               9           \n",
       "           age_first_birth BIRADS_breast_density current_hrt menopaus bmi_group\n",
       "923934.1   9               2                     0           2        9        \n",
       "956422.14  9               3                     9           9        9        \n",
       "177240.7   9               2                     9           2        9        \n",
       "1117808.40 9               2                     0           2        9        \n",
       "711838     1               1                     0           2        4        \n",
       "363863.53  9               2                     0           1        9        \n",
       "           biophx breast_cancer_history\n",
       "923934.1   1      0                    \n",
       "956422.14  1      0                    \n",
       "177240.7   0      0                    \n",
       "1117808.40 1      0                    \n",
       "711838     0      0                    \n",
       "363863.53  9      9                    "
      ]
     },
     "metadata": {},
     "output_type": "display_data"
    }
   ],
   "source": [
    "#Definimos una semilla común para todos:\n",
    "set.seed(12345)\n",
    "#Utiliza muestreo aleatorio simple para quedarnos con 5000 muestras:\n",
    "bCMuestras <- breastCancerReplicate[sample(1:nrow(breastCancerReplicate), 5000, replace = FALSE),]\n",
    "head(bCMuestras)\n",
    "tail(bCMuestras)"
   ]
  },
  {
   "cell_type": "code",
   "execution_count": null,
   "metadata": {},
   "outputs": [],
   "source": [
    "str(bCMuestras)"
   ]
  },
  {
   "cell_type": "code",
   "execution_count": null,
   "metadata": {
    "scrolled": false
   },
   "outputs": [],
   "source": [
    "#Definimos una semilla común para todos:\n",
    "set.seed(12345)\n",
    "#Utiliza muestreo aleatorio simple para quedarnos con 5000 muestras:\n",
    "indexes <- sample( 1:nrow(breastCancerReplicate),5000)\n",
    "bCMuestras2 <- breastCancerReplicate[indexes,]\n",
    "head(bCMuestras2)\n",
    "tail(bCMuestras2)"
   ]
  },
  {
   "cell_type": "code",
   "execution_count": null,
   "metadata": {},
   "outputs": [],
   "source": [
    "?sample"
   ]
  },
  {
   "cell_type": "markdown",
   "metadata": {},
   "source": [
    "Formatear el dataframe:\n",
    "* Cambiamos los *Desconocido* por NA en las columnas \"race_eth\", \"first_degree_hx\", \"age_menarche\", \"age_first_birth\", \"BIRADS_breast_density\", \"current_hrt\", \"menopaus\", \"bmi_group\", \"biophx\", \"breast_cancer_history\"\n",
    "* Convertimos a factores las columnas que vamos a necesitar"
   ]
  },
  {
   "cell_type": "code",
   "execution_count": 4,
   "metadata": {},
   "outputs": [
    {
     "data": {
      "text/html": [
       "<ol class=list-inline>\n",
       "\t<li>9</li>\n",
       "\t<li>2</li>\n",
       "\t<li>1</li>\n",
       "\t<li>5</li>\n",
       "\t<li>3</li>\n",
       "\t<li>6</li>\n",
       "\t<li>4</li>\n",
       "</ol>\n"
      ],
      "text/latex": [
       "\\begin{enumerate*}\n",
       "\\item 9\n",
       "\\item 2\n",
       "\\item 1\n",
       "\\item 5\n",
       "\\item 3\n",
       "\\item 6\n",
       "\\item 4\n",
       "\\end{enumerate*}\n"
      ],
      "text/markdown": [
       "1. 9\n",
       "2. 2\n",
       "3. 1\n",
       "4. 5\n",
       "5. 3\n",
       "6. 6\n",
       "7. 4\n",
       "\n",
       "\n"
      ],
      "text/plain": [
       "[1] 9 2 1 5 3 6 4"
      ]
     },
     "metadata": {},
     "output_type": "display_data"
    },
    {
     "data": {
      "text/html": [
       "<ol class=list-inline>\n",
       "\t<li>9</li>\n",
       "\t<li>0</li>\n",
       "\t<li>1</li>\n",
       "</ol>\n"
      ],
      "text/latex": [
       "\\begin{enumerate*}\n",
       "\\item 9\n",
       "\\item 0\n",
       "\\item 1\n",
       "\\end{enumerate*}\n"
      ],
      "text/markdown": [
       "1. 9\n",
       "2. 0\n",
       "3. 1\n",
       "\n",
       "\n"
      ],
      "text/plain": [
       "[1] 9 0 1"
      ]
     },
     "metadata": {},
     "output_type": "display_data"
    },
    {
     "data": {
      "text/html": [
       "<ol class=list-inline>\n",
       "\t<li>9</li>\n",
       "\t<li>1</li>\n",
       "\t<li>2</li>\n",
       "\t<li>0</li>\n",
       "</ol>\n"
      ],
      "text/latex": [
       "\\begin{enumerate*}\n",
       "\\item 9\n",
       "\\item 1\n",
       "\\item 2\n",
       "\\item 0\n",
       "\\end{enumerate*}\n"
      ],
      "text/markdown": [
       "1. 9\n",
       "2. 1\n",
       "3. 2\n",
       "4. 0\n",
       "\n",
       "\n"
      ],
      "text/plain": [
       "[1] 9 1 2 0"
      ]
     },
     "metadata": {},
     "output_type": "display_data"
    },
    {
     "data": {
      "text/html": [
       "<ol class=list-inline>\n",
       "\t<li>9</li>\n",
       "\t<li>1</li>\n",
       "\t<li>2</li>\n",
       "\t<li>4</li>\n",
       "\t<li>3</li>\n",
       "\t<li>0</li>\n",
       "</ol>\n"
      ],
      "text/latex": [
       "\\begin{enumerate*}\n",
       "\\item 9\n",
       "\\item 1\n",
       "\\item 2\n",
       "\\item 4\n",
       "\\item 3\n",
       "\\item 0\n",
       "\\end{enumerate*}\n"
      ],
      "text/markdown": [
       "1. 9\n",
       "2. 1\n",
       "3. 2\n",
       "4. 4\n",
       "5. 3\n",
       "6. 0\n",
       "\n",
       "\n"
      ],
      "text/plain": [
       "[1] 9 1 2 4 3 0"
      ]
     },
     "metadata": {},
     "output_type": "display_data"
    },
    {
     "data": {
      "text/html": [
       "<ol class=list-inline>\n",
       "\t<li>2</li>\n",
       "\t<li>3</li>\n",
       "\t<li>1</li>\n",
       "\t<li>9</li>\n",
       "\t<li>4</li>\n",
       "</ol>\n"
      ],
      "text/latex": [
       "\\begin{enumerate*}\n",
       "\\item 2\n",
       "\\item 3\n",
       "\\item 1\n",
       "\\item 9\n",
       "\\item 4\n",
       "\\end{enumerate*}\n"
      ],
      "text/markdown": [
       "1. 2\n",
       "2. 3\n",
       "3. 1\n",
       "4. 9\n",
       "5. 4\n",
       "\n",
       "\n"
      ],
      "text/plain": [
       "[1] 2 3 1 9 4"
      ]
     },
     "metadata": {},
     "output_type": "display_data"
    },
    {
     "data": {
      "text/html": [
       "<ol class=list-inline>\n",
       "\t<li>9</li>\n",
       "\t<li>0</li>\n",
       "\t<li>1</li>\n",
       "</ol>\n"
      ],
      "text/latex": [
       "\\begin{enumerate*}\n",
       "\\item 9\n",
       "\\item 0\n",
       "\\item 1\n",
       "\\end{enumerate*}\n"
      ],
      "text/markdown": [
       "1. 9\n",
       "2. 0\n",
       "3. 1\n",
       "\n",
       "\n"
      ],
      "text/plain": [
       "[1] 9 0 1"
      ]
     },
     "metadata": {},
     "output_type": "display_data"
    },
    {
     "data": {
      "text/html": [
       "<ol class=list-inline>\n",
       "\t<li>2</li>\n",
       "\t<li>1</li>\n",
       "\t<li>9</li>\n",
       "\t<li>3</li>\n",
       "</ol>\n"
      ],
      "text/latex": [
       "\\begin{enumerate*}\n",
       "\\item 2\n",
       "\\item 1\n",
       "\\item 9\n",
       "\\item 3\n",
       "\\end{enumerate*}\n"
      ],
      "text/markdown": [
       "1. 2\n",
       "2. 1\n",
       "3. 9\n",
       "4. 3\n",
       "\n",
       "\n"
      ],
      "text/plain": [
       "[1] 2 1 9 3"
      ]
     },
     "metadata": {},
     "output_type": "display_data"
    },
    {
     "data": {
      "text/html": [
       "<ol class=list-inline>\n",
       "\t<li>9</li>\n",
       "\t<li>2</li>\n",
       "\t<li>3</li>\n",
       "\t<li>4</li>\n",
       "\t<li>1</li>\n",
       "</ol>\n"
      ],
      "text/latex": [
       "\\begin{enumerate*}\n",
       "\\item 9\n",
       "\\item 2\n",
       "\\item 3\n",
       "\\item 4\n",
       "\\item 1\n",
       "\\end{enumerate*}\n"
      ],
      "text/markdown": [
       "1. 9\n",
       "2. 2\n",
       "3. 3\n",
       "4. 4\n",
       "5. 1\n",
       "\n",
       "\n"
      ],
      "text/plain": [
       "[1] 9 2 3 4 1"
      ]
     },
     "metadata": {},
     "output_type": "display_data"
    },
    {
     "data": {
      "text/html": [
       "<ol class=list-inline>\n",
       "\t<li>0</li>\n",
       "\t<li>9</li>\n",
       "\t<li>1</li>\n",
       "</ol>\n"
      ],
      "text/latex": [
       "\\begin{enumerate*}\n",
       "\\item 0\n",
       "\\item 9\n",
       "\\item 1\n",
       "\\end{enumerate*}\n"
      ],
      "text/markdown": [
       "1. 0\n",
       "2. 9\n",
       "3. 1\n",
       "\n",
       "\n"
      ],
      "text/plain": [
       "[1] 0 9 1"
      ]
     },
     "metadata": {},
     "output_type": "display_data"
    },
    {
     "data": {
      "text/html": [
       "<ol class=list-inline>\n",
       "\t<li>0</li>\n",
       "\t<li>9</li>\n",
       "\t<li>1</li>\n",
       "</ol>\n"
      ],
      "text/latex": [
       "\\begin{enumerate*}\n",
       "\\item 0\n",
       "\\item 9\n",
       "\\item 1\n",
       "\\end{enumerate*}\n"
      ],
      "text/markdown": [
       "1. 0\n",
       "2. 9\n",
       "3. 1\n",
       "\n",
       "\n"
      ],
      "text/plain": [
       "[1] 0 9 1"
      ]
     },
     "metadata": {},
     "output_type": "display_data"
    }
   ],
   "source": [
    "unique(bCMuestras$race_eth)\n",
    "unique(bCMuestras$first_degree_hx)\n",
    "unique(bCMuestras$age_menarche)\n",
    "unique(bCMuestras$age_first_birth)\n",
    "unique(bCMuestras$BIRADS_breast_density)\n",
    "unique(bCMuestras$current_hrt)\n",
    "unique(bCMuestras$menopaus)\n",
    "unique(bCMuestras$bmi_group)\n",
    "unique(bCMuestras$biophx)\n",
    "unique(bCMuestras$breast_cancer_history)"
   ]
  },
  {
   "cell_type": "code",
   "execution_count": 5,
   "metadata": {},
   "outputs": [],
   "source": [
    "# Pasamos a factor las columnas que nos pide poniendo NA en los valores de los 9\n",
    "bCMuestras$race_eth <- factor(bCMuestras$race_eth, labels=c(1,2,3,4,5,6,NA))   \n",
    "bCMuestras$first_degree_hx <- factor(bCMuestras$first_degree_hx, labels=c(0,1,NA))\n",
    "bCMuestras$age_menarche <- factor(bCMuestras$age_menarche, labels=c(0,1,2,NA))\n",
    "bCMuestras$age_first_birth <- factor(bCMuestras$age_first_birth, labels=c(0,1,2,3,4,NA))\n",
    "bCMuestras$BIRADS_breast_density <- factor(bCMuestras$BIRADS_breast_density, labels=c(1,2,3,4,NA))\n",
    "bCMuestras$current_hrt <- factor(bCMuestras$current_hrt, labels=c(0,1,NA))\n",
    "bCMuestras$menopaus <- factor(bCMuestras$menopaus, labels=c(1,2,3,NA))\n",
    "bCMuestras$bmi_group <- factor(bCMuestras$bmi_group, labels=c(1,2,3,4,NA))\n",
    "bCMuestras$biophx <- factor(bCMuestras$biophx, labels=c(0,1,NA))\n",
    "bCMuestras$breast_cancer_history <- factor(bCMuestras$breast_cancer_history, labels=c(0,1,NA))"
   ]
  },
  {
   "cell_type": "code",
   "execution_count": 6,
   "metadata": {},
   "outputs": [
    {
     "data": {
      "text/html": [
       "<ol class=list-inline>\n",
       "\t<li>&lt;NA&gt;</li>\n",
       "\t<li>2</li>\n",
       "\t<li>1</li>\n",
       "\t<li>5</li>\n",
       "\t<li>3</li>\n",
       "\t<li>6</li>\n",
       "\t<li>4</li>\n",
       "</ol>\n",
       "\n",
       "<details>\n",
       "\t<summary style=display:list-item;cursor:pointer>\n",
       "\t\t<strong>Levels</strong>:\n",
       "\t</summary>\n",
       "\t<ol class=list-inline>\n",
       "\t\t<li>'1'</li>\n",
       "\t\t<li>'2'</li>\n",
       "\t\t<li>'3'</li>\n",
       "\t\t<li>'4'</li>\n",
       "\t\t<li>'5'</li>\n",
       "\t\t<li>'6'</li>\n",
       "\t\t<li>NA</li>\n",
       "\t</ol>\n",
       "</details>"
      ],
      "text/latex": [
       "\\begin{enumerate*}\n",
       "\\item <NA>\n",
       "\\item 2\n",
       "\\item 1\n",
       "\\item 5\n",
       "\\item 3\n",
       "\\item 6\n",
       "\\item 4\n",
       "\\end{enumerate*}\n",
       "\n",
       "\\emph{Levels}: \\begin{enumerate*}\n",
       "\\item '1'\n",
       "\\item '2'\n",
       "\\item '3'\n",
       "\\item '4'\n",
       "\\item '5'\n",
       "\\item '6'\n",
       "\\item NA\n",
       "\\end{enumerate*}\n"
      ],
      "text/markdown": [
       "1. &lt;NA&gt;\n",
       "2. 2\n",
       "3. 1\n",
       "4. 5\n",
       "5. 3\n",
       "6. 6\n",
       "7. 4\n",
       "\n",
       "\n",
       "\n",
       "**Levels**: 1. '1'\n",
       "2. '2'\n",
       "3. '3'\n",
       "4. '4'\n",
       "5. '5'\n",
       "6. '6'\n",
       "7. NA\n",
       "\n",
       "\n"
      ],
      "text/plain": [
       "[1] <NA> 2    1    5    3    6    4   \n",
       "Levels: 1 2 3 4 5 6 <NA>"
      ]
     },
     "metadata": {},
     "output_type": "display_data"
    },
    {
     "data": {
      "text/html": [
       "<ol class=list-inline>\n",
       "\t<li>&lt;NA&gt;</li>\n",
       "\t<li>0</li>\n",
       "\t<li>1</li>\n",
       "</ol>\n",
       "\n",
       "<details>\n",
       "\t<summary style=display:list-item;cursor:pointer>\n",
       "\t\t<strong>Levels</strong>:\n",
       "\t</summary>\n",
       "\t<ol class=list-inline>\n",
       "\t\t<li>'0'</li>\n",
       "\t\t<li>'1'</li>\n",
       "\t\t<li>NA</li>\n",
       "\t</ol>\n",
       "</details>"
      ],
      "text/latex": [
       "\\begin{enumerate*}\n",
       "\\item <NA>\n",
       "\\item 0\n",
       "\\item 1\n",
       "\\end{enumerate*}\n",
       "\n",
       "\\emph{Levels}: \\begin{enumerate*}\n",
       "\\item '0'\n",
       "\\item '1'\n",
       "\\item NA\n",
       "\\end{enumerate*}\n"
      ],
      "text/markdown": [
       "1. &lt;NA&gt;\n",
       "2. 0\n",
       "3. 1\n",
       "\n",
       "\n",
       "\n",
       "**Levels**: 1. '0'\n",
       "2. '1'\n",
       "3. NA\n",
       "\n",
       "\n"
      ],
      "text/plain": [
       "[1] <NA> 0    1   \n",
       "Levels: 0 1 <NA>"
      ]
     },
     "metadata": {},
     "output_type": "display_data"
    },
    {
     "data": {
      "text/html": [
       "<ol class=list-inline>\n",
       "\t<li>&lt;NA&gt;</li>\n",
       "\t<li>1</li>\n",
       "\t<li>2</li>\n",
       "\t<li>0</li>\n",
       "</ol>\n",
       "\n",
       "<details>\n",
       "\t<summary style=display:list-item;cursor:pointer>\n",
       "\t\t<strong>Levels</strong>:\n",
       "\t</summary>\n",
       "\t<ol class=list-inline>\n",
       "\t\t<li>'0'</li>\n",
       "\t\t<li>'1'</li>\n",
       "\t\t<li>'2'</li>\n",
       "\t\t<li>NA</li>\n",
       "\t</ol>\n",
       "</details>"
      ],
      "text/latex": [
       "\\begin{enumerate*}\n",
       "\\item <NA>\n",
       "\\item 1\n",
       "\\item 2\n",
       "\\item 0\n",
       "\\end{enumerate*}\n",
       "\n",
       "\\emph{Levels}: \\begin{enumerate*}\n",
       "\\item '0'\n",
       "\\item '1'\n",
       "\\item '2'\n",
       "\\item NA\n",
       "\\end{enumerate*}\n"
      ],
      "text/markdown": [
       "1. &lt;NA&gt;\n",
       "2. 1\n",
       "3. 2\n",
       "4. 0\n",
       "\n",
       "\n",
       "\n",
       "**Levels**: 1. '0'\n",
       "2. '1'\n",
       "3. '2'\n",
       "4. NA\n",
       "\n",
       "\n"
      ],
      "text/plain": [
       "[1] <NA> 1    2    0   \n",
       "Levels: 0 1 2 <NA>"
      ]
     },
     "metadata": {},
     "output_type": "display_data"
    },
    {
     "data": {
      "text/html": [
       "<ol class=list-inline>\n",
       "\t<li>&lt;NA&gt;</li>\n",
       "\t<li>1</li>\n",
       "\t<li>2</li>\n",
       "\t<li>4</li>\n",
       "\t<li>3</li>\n",
       "\t<li>0</li>\n",
       "</ol>\n",
       "\n",
       "<details>\n",
       "\t<summary style=display:list-item;cursor:pointer>\n",
       "\t\t<strong>Levels</strong>:\n",
       "\t</summary>\n",
       "\t<ol class=list-inline>\n",
       "\t\t<li>'0'</li>\n",
       "\t\t<li>'1'</li>\n",
       "\t\t<li>'2'</li>\n",
       "\t\t<li>'3'</li>\n",
       "\t\t<li>'4'</li>\n",
       "\t\t<li>NA</li>\n",
       "\t</ol>\n",
       "</details>"
      ],
      "text/latex": [
       "\\begin{enumerate*}\n",
       "\\item <NA>\n",
       "\\item 1\n",
       "\\item 2\n",
       "\\item 4\n",
       "\\item 3\n",
       "\\item 0\n",
       "\\end{enumerate*}\n",
       "\n",
       "\\emph{Levels}: \\begin{enumerate*}\n",
       "\\item '0'\n",
       "\\item '1'\n",
       "\\item '2'\n",
       "\\item '3'\n",
       "\\item '4'\n",
       "\\item NA\n",
       "\\end{enumerate*}\n"
      ],
      "text/markdown": [
       "1. &lt;NA&gt;\n",
       "2. 1\n",
       "3. 2\n",
       "4. 4\n",
       "5. 3\n",
       "6. 0\n",
       "\n",
       "\n",
       "\n",
       "**Levels**: 1. '0'\n",
       "2. '1'\n",
       "3. '2'\n",
       "4. '3'\n",
       "5. '4'\n",
       "6. NA\n",
       "\n",
       "\n"
      ],
      "text/plain": [
       "[1] <NA> 1    2    4    3    0   \n",
       "Levels: 0 1 2 3 4 <NA>"
      ]
     },
     "metadata": {},
     "output_type": "display_data"
    },
    {
     "data": {
      "text/html": [
       "<ol class=list-inline>\n",
       "\t<li>2</li>\n",
       "\t<li>3</li>\n",
       "\t<li>1</li>\n",
       "\t<li>&lt;NA&gt;</li>\n",
       "\t<li>4</li>\n",
       "</ol>\n",
       "\n",
       "<details>\n",
       "\t<summary style=display:list-item;cursor:pointer>\n",
       "\t\t<strong>Levels</strong>:\n",
       "\t</summary>\n",
       "\t<ol class=list-inline>\n",
       "\t\t<li>'1'</li>\n",
       "\t\t<li>'2'</li>\n",
       "\t\t<li>'3'</li>\n",
       "\t\t<li>'4'</li>\n",
       "\t\t<li>NA</li>\n",
       "\t</ol>\n",
       "</details>"
      ],
      "text/latex": [
       "\\begin{enumerate*}\n",
       "\\item 2\n",
       "\\item 3\n",
       "\\item 1\n",
       "\\item <NA>\n",
       "\\item 4\n",
       "\\end{enumerate*}\n",
       "\n",
       "\\emph{Levels}: \\begin{enumerate*}\n",
       "\\item '1'\n",
       "\\item '2'\n",
       "\\item '3'\n",
       "\\item '4'\n",
       "\\item NA\n",
       "\\end{enumerate*}\n"
      ],
      "text/markdown": [
       "1. 2\n",
       "2. 3\n",
       "3. 1\n",
       "4. &lt;NA&gt;\n",
       "5. 4\n",
       "\n",
       "\n",
       "\n",
       "**Levels**: 1. '1'\n",
       "2. '2'\n",
       "3. '3'\n",
       "4. '4'\n",
       "5. NA\n",
       "\n",
       "\n"
      ],
      "text/plain": [
       "[1] 2    3    1    <NA> 4   \n",
       "Levels: 1 2 3 4 <NA>"
      ]
     },
     "metadata": {},
     "output_type": "display_data"
    },
    {
     "data": {
      "text/html": [
       "<ol class=list-inline>\n",
       "\t<li>&lt;NA&gt;</li>\n",
       "\t<li>0</li>\n",
       "\t<li>1</li>\n",
       "</ol>\n",
       "\n",
       "<details>\n",
       "\t<summary style=display:list-item;cursor:pointer>\n",
       "\t\t<strong>Levels</strong>:\n",
       "\t</summary>\n",
       "\t<ol class=list-inline>\n",
       "\t\t<li>'0'</li>\n",
       "\t\t<li>'1'</li>\n",
       "\t\t<li>NA</li>\n",
       "\t</ol>\n",
       "</details>"
      ],
      "text/latex": [
       "\\begin{enumerate*}\n",
       "\\item <NA>\n",
       "\\item 0\n",
       "\\item 1\n",
       "\\end{enumerate*}\n",
       "\n",
       "\\emph{Levels}: \\begin{enumerate*}\n",
       "\\item '0'\n",
       "\\item '1'\n",
       "\\item NA\n",
       "\\end{enumerate*}\n"
      ],
      "text/markdown": [
       "1. &lt;NA&gt;\n",
       "2. 0\n",
       "3. 1\n",
       "\n",
       "\n",
       "\n",
       "**Levels**: 1. '0'\n",
       "2. '1'\n",
       "3. NA\n",
       "\n",
       "\n"
      ],
      "text/plain": [
       "[1] <NA> 0    1   \n",
       "Levels: 0 1 <NA>"
      ]
     },
     "metadata": {},
     "output_type": "display_data"
    },
    {
     "data": {
      "text/html": [
       "<ol class=list-inline>\n",
       "\t<li>2</li>\n",
       "\t<li>1</li>\n",
       "\t<li>&lt;NA&gt;</li>\n",
       "\t<li>3</li>\n",
       "</ol>\n",
       "\n",
       "<details>\n",
       "\t<summary style=display:list-item;cursor:pointer>\n",
       "\t\t<strong>Levels</strong>:\n",
       "\t</summary>\n",
       "\t<ol class=list-inline>\n",
       "\t\t<li>'1'</li>\n",
       "\t\t<li>'2'</li>\n",
       "\t\t<li>'3'</li>\n",
       "\t\t<li>NA</li>\n",
       "\t</ol>\n",
       "</details>"
      ],
      "text/latex": [
       "\\begin{enumerate*}\n",
       "\\item 2\n",
       "\\item 1\n",
       "\\item <NA>\n",
       "\\item 3\n",
       "\\end{enumerate*}\n",
       "\n",
       "\\emph{Levels}: \\begin{enumerate*}\n",
       "\\item '1'\n",
       "\\item '2'\n",
       "\\item '3'\n",
       "\\item NA\n",
       "\\end{enumerate*}\n"
      ],
      "text/markdown": [
       "1. 2\n",
       "2. 1\n",
       "3. &lt;NA&gt;\n",
       "4. 3\n",
       "\n",
       "\n",
       "\n",
       "**Levels**: 1. '1'\n",
       "2. '2'\n",
       "3. '3'\n",
       "4. NA\n",
       "\n",
       "\n"
      ],
      "text/plain": [
       "[1] 2    1    <NA> 3   \n",
       "Levels: 1 2 3 <NA>"
      ]
     },
     "metadata": {},
     "output_type": "display_data"
    },
    {
     "data": {
      "text/html": [
       "<ol class=list-inline>\n",
       "\t<li>&lt;NA&gt;</li>\n",
       "\t<li>2</li>\n",
       "\t<li>3</li>\n",
       "\t<li>4</li>\n",
       "\t<li>1</li>\n",
       "</ol>\n",
       "\n",
       "<details>\n",
       "\t<summary style=display:list-item;cursor:pointer>\n",
       "\t\t<strong>Levels</strong>:\n",
       "\t</summary>\n",
       "\t<ol class=list-inline>\n",
       "\t\t<li>'1'</li>\n",
       "\t\t<li>'2'</li>\n",
       "\t\t<li>'3'</li>\n",
       "\t\t<li>'4'</li>\n",
       "\t\t<li>NA</li>\n",
       "\t</ol>\n",
       "</details>"
      ],
      "text/latex": [
       "\\begin{enumerate*}\n",
       "\\item <NA>\n",
       "\\item 2\n",
       "\\item 3\n",
       "\\item 4\n",
       "\\item 1\n",
       "\\end{enumerate*}\n",
       "\n",
       "\\emph{Levels}: \\begin{enumerate*}\n",
       "\\item '1'\n",
       "\\item '2'\n",
       "\\item '3'\n",
       "\\item '4'\n",
       "\\item NA\n",
       "\\end{enumerate*}\n"
      ],
      "text/markdown": [
       "1. &lt;NA&gt;\n",
       "2. 2\n",
       "3. 3\n",
       "4. 4\n",
       "5. 1\n",
       "\n",
       "\n",
       "\n",
       "**Levels**: 1. '1'\n",
       "2. '2'\n",
       "3. '3'\n",
       "4. '4'\n",
       "5. NA\n",
       "\n",
       "\n"
      ],
      "text/plain": [
       "[1] <NA> 2    3    4    1   \n",
       "Levels: 1 2 3 4 <NA>"
      ]
     },
     "metadata": {},
     "output_type": "display_data"
    },
    {
     "data": {
      "text/html": [
       "<ol class=list-inline>\n",
       "\t<li>0</li>\n",
       "\t<li>&lt;NA&gt;</li>\n",
       "\t<li>1</li>\n",
       "</ol>\n",
       "\n",
       "<details>\n",
       "\t<summary style=display:list-item;cursor:pointer>\n",
       "\t\t<strong>Levels</strong>:\n",
       "\t</summary>\n",
       "\t<ol class=list-inline>\n",
       "\t\t<li>'0'</li>\n",
       "\t\t<li>'1'</li>\n",
       "\t\t<li>NA</li>\n",
       "\t</ol>\n",
       "</details>"
      ],
      "text/latex": [
       "\\begin{enumerate*}\n",
       "\\item 0\n",
       "\\item <NA>\n",
       "\\item 1\n",
       "\\end{enumerate*}\n",
       "\n",
       "\\emph{Levels}: \\begin{enumerate*}\n",
       "\\item '0'\n",
       "\\item '1'\n",
       "\\item NA\n",
       "\\end{enumerate*}\n"
      ],
      "text/markdown": [
       "1. 0\n",
       "2. &lt;NA&gt;\n",
       "3. 1\n",
       "\n",
       "\n",
       "\n",
       "**Levels**: 1. '0'\n",
       "2. '1'\n",
       "3. NA\n",
       "\n",
       "\n"
      ],
      "text/plain": [
       "[1] 0    <NA> 1   \n",
       "Levels: 0 1 <NA>"
      ]
     },
     "metadata": {},
     "output_type": "display_data"
    },
    {
     "data": {
      "text/html": [
       "<ol class=list-inline>\n",
       "\t<li>0</li>\n",
       "\t<li>&lt;NA&gt;</li>\n",
       "\t<li>1</li>\n",
       "</ol>\n",
       "\n",
       "<details>\n",
       "\t<summary style=display:list-item;cursor:pointer>\n",
       "\t\t<strong>Levels</strong>:\n",
       "\t</summary>\n",
       "\t<ol class=list-inline>\n",
       "\t\t<li>'0'</li>\n",
       "\t\t<li>'1'</li>\n",
       "\t\t<li>NA</li>\n",
       "\t</ol>\n",
       "</details>"
      ],
      "text/latex": [
       "\\begin{enumerate*}\n",
       "\\item 0\n",
       "\\item <NA>\n",
       "\\item 1\n",
       "\\end{enumerate*}\n",
       "\n",
       "\\emph{Levels}: \\begin{enumerate*}\n",
       "\\item '0'\n",
       "\\item '1'\n",
       "\\item NA\n",
       "\\end{enumerate*}\n"
      ],
      "text/markdown": [
       "1. 0\n",
       "2. &lt;NA&gt;\n",
       "3. 1\n",
       "\n",
       "\n",
       "\n",
       "**Levels**: 1. '0'\n",
       "2. '1'\n",
       "3. NA\n",
       "\n",
       "\n"
      ],
      "text/plain": [
       "[1] 0    <NA> 1   \n",
       "Levels: 0 1 <NA>"
      ]
     },
     "metadata": {},
     "output_type": "display_data"
    }
   ],
   "source": [
    "unique(bCMuestras$race_eth)\n",
    "unique(bCMuestras$first_degree_hx)\n",
    "unique(bCMuestras$age_menarche)\n",
    "unique(bCMuestras$age_first_birth)\n",
    "unique(bCMuestras$BIRADS_breast_density)\n",
    "unique(bCMuestras$current_hrt)\n",
    "unique(bCMuestras$menopaus)\n",
    "unique(bCMuestras$bmi_group)\n",
    "unique(bCMuestras$biophx)\n",
    "unique(bCMuestras$breast_cancer_history)"
   ]
  },
  {
   "cell_type": "code",
   "execution_count": null,
   "metadata": {},
   "outputs": [],
   "source": [
    "head(bCMuestras)"
   ]
  },
  {
   "cell_type": "markdown",
   "metadata": {},
   "source": [
    "#### Edad y Antecedentes familiares"
   ]
  },
  {
   "cell_type": "markdown",
   "metadata": {},
   "source": [
    "Creamos una nueva columna con la edad estimada para un posterior análisis"
   ]
  },
  {
   "cell_type": "markdown",
   "metadata": {},
   "source": [
    "Representa en un diagrama de cajas cómo varía la **edad de aparición del cancer** en función de si ha habido **antecedentes familiares** o no.\n",
    "Ayuda:\n",
    "- Hay que crear una nueva columna con la edad estimada de cada rango."
   ]
  },
  {
   "cell_type": "code",
   "execution_count": 7,
   "metadata": {},
   "outputs": [
    {
     "name": "stdout",
     "output_type": "stream",
     "text": [
      "'data.frame':\t5000 obs. of  12 variables:\n",
      " $ year                 : int  2006 2008 2007 2008 2004 2001 2002 2004 2006 2009 ...\n",
      " $ age_group_5_years    : int  8 7 5 8 3 6 10 6 9 10 ...\n",
      " $ race_eth             : Factor w/ 7 levels \"1\",\"2\",\"3\",\"4\",..: 7 2 1 1 1 5 1 7 7 1 ...\n",
      " $ first_degree_hx      : Factor w/ 3 levels \"0\",\"1\",NA: 3 1 1 2 1 1 1 3 1 3 ...\n",
      " $ age_menarche         : Factor w/ 4 levels \"0\",\"1\",\"2\",NA: 4 4 4 2 4 4 4 4 4 3 ...\n",
      " $ age_first_birth      : Factor w/ 6 levels \"0\",\"1\",\"2\",\"3\",..: 6 6 6 2 6 6 6 6 2 6 ...\n",
      " $ BIRADS_breast_density: Factor w/ 5 levels \"1\",\"2\",\"3\",\"4\",..: 2 2 2 2 3 1 5 5 1 2 ...\n",
      " $ current_hrt          : Factor w/ 3 levels \"0\",\"1\",NA: 3 1 1 1 1 2 1 3 1 1 ...\n",
      " $ menopaus             : Factor w/ 4 levels \"1\",\"2\",\"3\",NA: 2 2 1 2 1 2 2 4 2 2 ...\n",
      " $ bmi_group            : Factor w/ 5 levels \"1\",\"2\",\"3\",\"4\",..: 5 5 5 2 2 3 2 5 5 2 ...\n",
      " $ biophx               : Factor w/ 3 levels \"0\",\"1\",NA: 1 1 1 1 1 1 1 3 1 1 ...\n",
      " $ breast_cancer_history: Factor w/ 3 levels \"0\",\"1\",NA: 1 1 1 1 1 1 1 3 1 1 ...\n"
     ]
    }
   ],
   "source": [
    "# Observamos que columnas tiene la tabla bVMuestras\n",
    "str(bCMuestras)"
   ]
  },
  {
   "cell_type": "code",
   "execution_count": 8,
   "metadata": {},
   "outputs": [
    {
     "data": {
      "text/html": [
       "<ol class=list-inline>\n",
       "\t<li>8</li>\n",
       "\t<li>7</li>\n",
       "\t<li>5</li>\n",
       "\t<li>3</li>\n",
       "\t<li>6</li>\n",
       "\t<li>10</li>\n",
       "\t<li>9</li>\n",
       "\t<li>11</li>\n",
       "\t<li>2</li>\n",
       "\t<li>4</li>\n",
       "\t<li>13</li>\n",
       "\t<li>12</li>\n",
       "\t<li>1</li>\n",
       "</ol>\n"
      ],
      "text/latex": [
       "\\begin{enumerate*}\n",
       "\\item 8\n",
       "\\item 7\n",
       "\\item 5\n",
       "\\item 3\n",
       "\\item 6\n",
       "\\item 10\n",
       "\\item 9\n",
       "\\item 11\n",
       "\\item 2\n",
       "\\item 4\n",
       "\\item 13\n",
       "\\item 12\n",
       "\\item 1\n",
       "\\end{enumerate*}\n"
      ],
      "text/markdown": [
       "1. 8\n",
       "2. 7\n",
       "3. 5\n",
       "4. 3\n",
       "5. 6\n",
       "6. 10\n",
       "7. 9\n",
       "8. 11\n",
       "9. 2\n",
       "10. 4\n",
       "11. 13\n",
       "12. 12\n",
       "13. 1\n",
       "\n",
       "\n"
      ],
      "text/plain": [
       " [1]  8  7  5  3  6 10  9 11  2  4 13 12  1"
      ]
     },
     "metadata": {},
     "output_type": "display_data"
    }
   ],
   "source": [
    "# Vemos que valores únicos tiene la columna $age_group_5_years\n",
    "unique(bCMuestras$age_group_5_years)"
   ]
  },
  {
   "cell_type": "code",
   "execution_count": 9,
   "metadata": {},
   "outputs": [],
   "source": [
    "# Creamos una nueva columna con los valores estimados de la columna $age_group_5_years\n",
    "bCMuestras$age_Stimated <- factor(bCMuestras$age_group_5_years, labels = c(24,32,37,42,47,52,57,62,67,72,77,82,90))"
   ]
  },
  {
   "cell_type": "code",
   "execution_count": 10,
   "metadata": {},
   "outputs": [],
   "source": [
    "# Pasamos a valores numéricos la columna $age_Stimated \n",
    "bCMuestras$age_Stimated <- as.numeric(as.character(bCMuestras$age_Stimated))"
   ]
  },
  {
   "cell_type": "code",
   "execution_count": null,
   "metadata": {},
   "outputs": [],
   "source": [
    "head(bCMuestras)"
   ]
  },
  {
   "cell_type": "code",
   "execution_count": null,
   "metadata": {},
   "outputs": [],
   "source": [
    "str(bCMuestras)"
   ]
  },
  {
   "cell_type": "code",
   "execution_count": 11,
   "metadata": {},
   "outputs": [
    {
     "name": "stdout",
     "output_type": "stream",
     "text": [
      "'data.frame':\t5000 obs. of  2 variables:\n",
      " $ first_degree_hx: Factor w/ 3 levels \"0\",\"1\",NA: 3 1 1 2 1 1 1 3 1 3 ...\n",
      " $ age_Stimated   : num  62 57 47 62 37 52 72 52 67 72 ...\n"
     ]
    }
   ],
   "source": [
    "# Creamos la tabla df_Antecedentes_Fam que es un subconjunto de la tabla bCMuestras\n",
    "df_Antecedentes_Fam <- subset(bCMuestras,select = c(first_degree_hx, age_Stimated))\n",
    "\n",
    "# Pasamos a valores numericos la columna $age_Stimated de la tabla df_Antecedentes_Fam\n",
    "df_Antecedentes_Fam$age_Stimated <-  as.numeric(as.character(df_Antecedentes_Fam$age_Stimated))\n",
    "str(df_Antecedentes_Fam)"
   ]
  },
  {
   "cell_type": "code",
   "execution_count": null,
   "metadata": {},
   "outputs": [],
   "source": [
    "head(df_Antecedentes_Fam)"
   ]
  },
  {
   "cell_type": "code",
   "execution_count": 12,
   "metadata": {},
   "outputs": [],
   "source": [
    "# Dividimos la tabla df_Antecedentes_Fam con las personas que no tienen antecedentes familiares\n",
    "df_Antecedentes_Fam_0 <- df_Antecedentes_Fam[df_Antecedentes_Fam$first_degree_hx == \"0\",]\n",
    "# Agregamos una nueva columna $type en la tabla df_Antecedentes_Fam_0 con valores de \"No Antecedentes\"\n",
    "df_Antecedentes_Fam_0$type <- \"No Antecedentes\"\n",
    "\n",
    "# Dividimos la tabla df_Antecedentes_Fam con las personas que tienen antecedentes familiares\n",
    "df_Antecedentes_Fam_1 <- df_Antecedentes_Fam[df_Antecedentes_Fam$first_degree_hx == \"1\",]\n",
    "# Agregamos una nueva columna $type en la tabla df_Antecedentes_Fam_1 con valores de \"Antecedentes\"\n",
    "df_Antecedentes_Fam_1$type <- \"Si Antecedentes\"\n"
   ]
  },
  {
   "cell_type": "code",
   "execution_count": null,
   "metadata": {},
   "outputs": [],
   "source": [
    "head(df_Antecedentes_Fam_0)\n",
    "head(df_Antecedentes_Fam_1)"
   ]
  },
  {
   "cell_type": "code",
   "execution_count": 13,
   "metadata": {},
   "outputs": [],
   "source": [
    "# Unimos las tablas df_Antecedentes_Fam_0 y df_Antecedentes_Fam_1 en una única tabla\n",
    "df_Antecedentes_Fam_all <- rbind(df_Antecedentes_Fam_0,df_Antecedentes_Fam_1)\n",
    "\n",
    "# Pasamos a valores numéricos la columna $first_degree_hx\n",
    "df_Antecedentes_Fam_all$first_degree_hx <- as.numeric(as.character(df_Antecedentes_Fam_all$first_degree_hx))"
   ]
  },
  {
   "cell_type": "code",
   "execution_count": 14,
   "metadata": {},
   "outputs": [
    {
     "name": "stdout",
     "output_type": "stream",
     "text": [
      "'data.frame':\t4511 obs. of  3 variables:\n",
      " $ first_degree_hx: num  0 0 0 0 0 0 0 0 0 0 ...\n",
      " $ age_Stimated   : num  57 47 37 52 72 67 52 77 32 42 ...\n",
      " $ type           : chr  \"No Antecedentes\" \"No Antecedentes\" \"No Antecedentes\" \"No Antecedentes\" ...\n"
     ]
    },
    {
     "data": {
      "text/html": [
       "<table>\n",
       "<thead><tr><th></th><th scope=col>first_degree_hx</th><th scope=col>age_Stimated</th><th scope=col>type</th></tr></thead>\n",
       "<tbody>\n",
       "\t<tr><th scope=row>1039139</th><td>1              </td><td>37             </td><td>Si Antecedentes</td></tr>\n",
       "\t<tr><th scope=row>220278.2</th><td>1              </td><td>77             </td><td>Si Antecedentes</td></tr>\n",
       "\t<tr><th scope=row>985402.3</th><td>1              </td><td>57             </td><td>Si Antecedentes</td></tr>\n",
       "\t<tr><th scope=row>300207.1</th><td>1              </td><td>57             </td><td>Si Antecedentes</td></tr>\n",
       "\t<tr><th scope=row>354772.1</th><td>1              </td><td>90             </td><td>Si Antecedentes</td></tr>\n",
       "\t<tr><th scope=row>318557.1</th><td>1              </td><td>62             </td><td>Si Antecedentes</td></tr>\n",
       "</tbody>\n",
       "</table>\n"
      ],
      "text/latex": [
       "\\begin{tabular}{r|lll}\n",
       "  & first\\_degree\\_hx & age\\_Stimated & type\\\\\n",
       "\\hline\n",
       "\t1039139 & 1               & 37              & Si Antecedentes\\\\\n",
       "\t220278.2 & 1               & 77              & Si Antecedentes\\\\\n",
       "\t985402.3 & 1               & 57              & Si Antecedentes\\\\\n",
       "\t300207.1 & 1               & 57              & Si Antecedentes\\\\\n",
       "\t354772.1 & 1               & 90              & Si Antecedentes\\\\\n",
       "\t318557.1 & 1               & 62              & Si Antecedentes\\\\\n",
       "\\end{tabular}\n"
      ],
      "text/markdown": [
       "\n",
       "| <!--/--> | first_degree_hx | age_Stimated | type | \n",
       "|---|---|---|---|---|---|\n",
       "| 1039139 | 1               | 37              | Si Antecedentes | \n",
       "| 220278.2 | 1               | 77              | Si Antecedentes | \n",
       "| 985402.3 | 1               | 57              | Si Antecedentes | \n",
       "| 300207.1 | 1               | 57              | Si Antecedentes | \n",
       "| 354772.1 | 1               | 90              | Si Antecedentes | \n",
       "| 318557.1 | 1               | 62              | Si Antecedentes | \n",
       "\n",
       "\n"
      ],
      "text/plain": [
       "         first_degree_hx age_Stimated type           \n",
       "1039139  1               37           Si Antecedentes\n",
       "220278.2 1               77           Si Antecedentes\n",
       "985402.3 1               57           Si Antecedentes\n",
       "300207.1 1               57           Si Antecedentes\n",
       "354772.1 1               90           Si Antecedentes\n",
       "318557.1 1               62           Si Antecedentes"
      ]
     },
     "metadata": {},
     "output_type": "display_data"
    }
   ],
   "source": [
    "# En la tabla df_Antecedentes_Fam_all quitamos todos los valores NA\n",
    "df_Antecedentes_Fam_all <- na.omit(df_Antecedentes_Fam_all)\n",
    "\n",
    "# Pasamos a data frame la tabla df_Antecedentes_Fam_all\n",
    "df_Antecedentes_Fam_all <- data.frame(df_Antecedentes_Fam_all)\n",
    "str (df_Antecedentes_Fam_all)\n",
    "tail(df_Antecedentes_Fam_all)"
   ]
  },
  {
   "cell_type": "code",
   "execution_count": 15,
   "metadata": {},
   "outputs": [
    {
     "data": {
      "text/html": [
       "<table>\n",
       "<thead><tr><th scope=col>edad</th><th scope=col>antecedentes</th><th scope=col>tipo</th></tr></thead>\n",
       "<tbody>\n",
       "\t<tr><td>57             </td><td>0              </td><td>No Antecedentes</td></tr>\n",
       "\t<tr><td>47             </td><td>0              </td><td>No Antecedentes</td></tr>\n",
       "\t<tr><td>37             </td><td>0              </td><td>No Antecedentes</td></tr>\n",
       "\t<tr><td>52             </td><td>0              </td><td>No Antecedentes</td></tr>\n",
       "\t<tr><td>72             </td><td>0              </td><td>No Antecedentes</td></tr>\n",
       "\t<tr><td>67             </td><td>0              </td><td>No Antecedentes</td></tr>\n",
       "</tbody>\n",
       "</table>\n"
      ],
      "text/latex": [
       "\\begin{tabular}{r|lll}\n",
       " edad & antecedentes & tipo\\\\\n",
       "\\hline\n",
       "\t 57              & 0               & No Antecedentes\\\\\n",
       "\t 47              & 0               & No Antecedentes\\\\\n",
       "\t 37              & 0               & No Antecedentes\\\\\n",
       "\t 52              & 0               & No Antecedentes\\\\\n",
       "\t 72              & 0               & No Antecedentes\\\\\n",
       "\t 67              & 0               & No Antecedentes\\\\\n",
       "\\end{tabular}\n"
      ],
      "text/markdown": [
       "\n",
       "edad | antecedentes | tipo | \n",
       "|---|---|---|---|---|---|\n",
       "| 57              | 0               | No Antecedentes | \n",
       "| 47              | 0               | No Antecedentes | \n",
       "| 37              | 0               | No Antecedentes | \n",
       "| 52              | 0               | No Antecedentes | \n",
       "| 72              | 0               | No Antecedentes | \n",
       "| 67              | 0               | No Antecedentes | \n",
       "\n",
       "\n"
      ],
      "text/plain": [
       "  edad antecedentes tipo           \n",
       "1 57   0            No Antecedentes\n",
       "2 47   0            No Antecedentes\n",
       "3 37   0            No Antecedentes\n",
       "4 52   0            No Antecedentes\n",
       "5 72   0            No Antecedentes\n",
       "6 67   0            No Antecedentes"
      ]
     },
     "metadata": {},
     "output_type": "display_data"
    }
   ],
   "source": [
    "# Creamos una nueva tabla en la que renombramos las columnas\n",
    "df_Antecedentes_Fam_graf <- data.frame(edad=df_Antecedentes_Fam_all$age_Stimated, antecedentes = df_Antecedentes_Fam_all$first_degree_hx, tipo =df_Antecedentes_Fam_all$type )\n",
    "head(df_Antecedentes_Fam_graf)"
   ]
  },
  {
   "cell_type": "code",
   "execution_count": 16,
   "metadata": {},
   "outputs": [
    {
     "data": {},
     "metadata": {},
     "output_type": "display_data"
    },
    {
     "data": {
      "image/png": "[encoded data removed]",
      "text/plain": [
       "plot without title"
      ]
     },
     "metadata": {},
     "output_type": "display_data"
    }
   ],
   "source": [
    "library(ggplot2)\n",
    "ggplot(df_Antecedentes_Fam_graf, aes(x=antecedentes, y=edad, fill = tipo, group=tipo)) +\n",
    "    geom_boxplot(color=\"black\", notch=TRUE)+\n",
    "    scale_x_continuous(breaks=c(0,1))+\n",
    "    scale_y_continuous(breaks=c(10,20,30,40,50,60,70,80,90,100))"
   ]
  },
  {
   "cell_type": "markdown",
   "metadata": {},
   "source": [
    "¿Existe una diferencia estadística significativa entre la edad de aparición del cancer y si hay antecedentes familiares? ¿Que test usarías para comprobarlo?"
   ]
  },
  {
   "cell_type": "code",
   "execution_count": 17,
   "metadata": {},
   "outputs": [
    {
     "name": "stdout",
     "output_type": "stream",
     "text": [
      "'data.frame':\t4511 obs. of  3 variables:\n",
      " $ first_degree_hx: num  0 0 0 0 0 0 0 0 0 0 ...\n",
      " $ age_Stimated   : num  57 47 37 52 72 67 52 77 32 42 ...\n",
      " $ type           : chr  \"No Antecedentes\" \"No Antecedentes\" \"No Antecedentes\" \"No Antecedentes\" ...\n"
     ]
    },
    {
     "data": {
      "text/html": [
       "<ol class=list-inline>\n",
       "\t<li>0</li>\n",
       "\t<li>1</li>\n",
       "</ol>\n"
      ],
      "text/latex": [
       "\\begin{enumerate*}\n",
       "\\item 0\n",
       "\\item 1\n",
       "\\end{enumerate*}\n"
      ],
      "text/markdown": [
       "1. 0\n",
       "2. 1\n",
       "\n",
       "\n"
      ],
      "text/plain": [
       "[1] 0 1"
      ]
     },
     "metadata": {},
     "output_type": "display_data"
    }
   ],
   "source": [
    "str(df_Antecedentes_Fam_all)\n",
    "unique(df_Antecedentes_Fam_all$first_degree_hx)"
   ]
  },
  {
   "cell_type": "code",
   "execution_count": 18,
   "metadata": {},
   "outputs": [
    {
     "name": "stdout",
     "output_type": "stream",
     "text": [
      "[1] \" La media de la edad de tener cancer y no tener antecedentes familiares es 56.5649\"\n",
      "[1] \" La media de la edad de tener cancer y tener antecedentes familiares es 58.9593\"\n",
      "[1] \"Las medias de edad de tener antecedentes o no familiares son diferentes\"\n"
     ]
    }
   ],
   "source": [
    "#df_Antecedentes_Fam_all$first_degree_hx <- factor(df_Antecedentes_Fam_all$first_degree_hx,labels =c(0,1))\n",
    "mean_Ant_No <- mean(df_Antecedentes_Fam_all$age_Stimated[df_Antecedentes_Fam_all$first_degree_hx==0])\n",
    "print(paste(\" La media de la edad de tener cancer y no tener antecedentes familiares es\", round(mean_Ant_No,4)))\n",
    "mean_Ant_Si <- mean(df_Antecedentes_Fam_all$age_Stimated[df_Antecedentes_Fam_all$first_degree_hx==1])\n",
    "print(paste(\" La media de la edad de tener cancer y tener antecedentes familiares es\", round(mean_Ant_Si,4)))\n",
    "print(\"Las medias de edad de tener antecedentes o no familiares son diferentes\")"
   ]
  },
  {
   "cell_type": "code",
   "execution_count": 19,
   "metadata": {},
   "outputs": [
    {
     "name": "stdout",
     "output_type": "stream",
     "text": [
      "[1] \" La varianza de la edad de tener cancer y no tener antecedentes familiares es 147.9999\"\n",
      "[1] \" La varianza de la edad de tener cancer y tener antecedentes familiares es 165.3815\"\n"
     ]
    }
   ],
   "source": [
    "var_Ant_Fam_No <- var(df_Antecedentes_Fam_all$age_Stimated[df_Antecedentes_Fam_all$first_degree_hx==0])\n",
    "print(paste(\" La varianza de la edad de tener cancer y no tener antecedentes familiares es\", round(var_Ant_Fam_No,4)))\n",
    "var_Ant_Fam_Si <- var(df_Antecedentes_Fam_all$age_Stimated[df_Antecedentes_Fam_all$first_degree_hx==1])\n",
    "print(paste(\" La varianza de la edad de tener cancer y tener antecedentes familiares es\", round(var_Ant_Fam_Si,4)))\n"
   ]
  },
  {
   "cell_type": "markdown",
   "metadata": {},
   "source": [
    "**Aplicamos un test de Shapiro** para comprobar si es gaussiana o no la función de distribución"
   ]
  },
  {
   "cell_type": "code",
   "execution_count": 20,
   "metadata": {},
   "outputs": [
    {
     "name": "stdout",
     "output_type": "stream",
     "text": [
      "[1] \"Test de Shapiro para la edad de tener cancer y no tener antecedentes familiares:\"\n"
     ]
    },
    {
     "data": {
      "text/plain": [
       "\n",
       "\tShapiro-Wilk normality test\n",
       "\n",
       "data:  df_Antecedentes_Fam_all$age_Stimated[df_Antecedentes_Fam_all$first_degree_hx ==     0]\n",
       "W = 0.95966, p-value < 2.2e-16\n"
      ]
     },
     "metadata": {},
     "output_type": "display_data"
    },
    {
     "name": "stdout",
     "output_type": "stream",
     "text": [
      "[1] \"Test de Shapiro para la edad de tener cancer y tener antecedentes familiares:\"\n"
     ]
    },
    {
     "data": {
      "text/plain": [
       "\n",
       "\tShapiro-Wilk normality test\n",
       "\n",
       "data:  df_Antecedentes_Fam_all$age_Stimated[df_Antecedentes_Fam_all$first_degree_hx ==     1]\n",
       "W = 0.96955, p-value = 2.929e-11\n"
      ]
     },
     "metadata": {},
     "output_type": "display_data"
    },
    {
     "name": "stdout",
     "output_type": "stream",
     "text": [
      "[1] \"En ambos casos el p-value es muy bajo y no siguen una distribución normal\"\n"
     ]
    }
   ],
   "source": [
    "print(\"Test de Shapiro para la edad de tener cancer y no tener antecedentes familiares:\")\n",
    "shapiro.test(df_Antecedentes_Fam_all$age_Stimated[df_Antecedentes_Fam_all$first_degree_hx==0])\n",
    "\n",
    "print(\"Test de Shapiro para la edad de tener cancer y tener antecedentes familiares:\")\n",
    "shapiro.test(df_Antecedentes_Fam_all$age_Stimated[df_Antecedentes_Fam_all$first_degree_hx==1])\n",
    "print(\"En ambos casos el p-value es muy bajo y no siguen una distribución normal\")"
   ]
  },
  {
   "cell_type": "markdown",
   "metadata": {},
   "source": [
    "Aplicamos un **test de Wilcoxon**"
   ]
  },
  {
   "cell_type": "code",
   "execution_count": 21,
   "metadata": {},
   "outputs": [],
   "source": [
    "y1 <- df_Antecedentes_Fam_all$age_Stimated[df_Antecedentes_Fam_all$first_degree_hx==0]\n",
    "y2 <- df_Antecedentes_Fam_all$age_Stimated[df_Antecedentes_Fam_all$first_degree_hx==1]"
   ]
  },
  {
   "cell_type": "code",
   "execution_count": 22,
   "metadata": {},
   "outputs": [
    {
     "data": {
      "text/plain": [
       "\n",
       "\tWilcoxon rank sum test with continuity correction\n",
       "\n",
       "data:  y1 and y2\n",
       "W = 1239200, p-value = 2.339e-06\n",
       "alternative hypothesis: true location shift is not equal to 0\n"
      ]
     },
     "metadata": {},
     "output_type": "display_data"
    }
   ],
   "source": [
    "wilcox.test(y1,y2)"
   ]
  },
  {
   "cell_type": "markdown",
   "metadata": {},
   "source": [
    "* Consideramos la H1 como verdadera y si hay influencia con la edad de tener cáncer y  tener antecedentes familires"
   ]
  },
  {
   "cell_type": "markdown",
   "metadata": {},
   "source": [
    "Dibuja la curva de densidad de probabilidad de cómo varía la edad de aparición del cancer en función de si ha habido antecedentes familiares o no."
   ]
  },
  {
   "cell_type": "code",
   "execution_count": 23,
   "metadata": {},
   "outputs": [
    {
     "data": {},
     "metadata": {},
     "output_type": "display_data"
    },
    {
     "data": {
      "image/png": "[encoded data removed]",
      "text/plain": [
       "plot without title"
      ]
     },
     "metadata": {},
     "output_type": "display_data"
    }
   ],
   "source": [
    "# Dibujamos el diagrama de densidad\n",
    "ggplot(data=df_Antecedentes_Fam_graf, aes(x=edad,colour=tipo)) +\n",
    "    geom_density(alpha=.3)+\n",
    "    scale_x_continuous(breaks=c(10,20,30,40,50,60,70,80,90,100))+\n",
    "    labs(title=\"Curvas de densidad de edad aparición cáncer en función antecedent. familiares\",\n",
    "         x=\"Edad\", y=\"Densidad\")"
   ]
  },
  {
   "cell_type": "markdown",
   "metadata": {},
   "source": [
    "#### Edad y BIRADS"
   ]
  },
  {
   "cell_type": "markdown",
   "metadata": {},
   "source": [
    "Representa en un diagrama de cajas cómo varía la edad de aparición del cancer en función de la densidad del cancder (BIRADS)."
   ]
  },
  {
   "cell_type": "code",
   "execution_count": 24,
   "metadata": {},
   "outputs": [
    {
     "data": {
      "text/html": [
       "<ol class=list-inline>\n",
       "\t<li>2</li>\n",
       "\t<li>3</li>\n",
       "\t<li>1</li>\n",
       "\t<li>&lt;NA&gt;</li>\n",
       "\t<li>4</li>\n",
       "</ol>\n",
       "\n",
       "<details>\n",
       "\t<summary style=display:list-item;cursor:pointer>\n",
       "\t\t<strong>Levels</strong>:\n",
       "\t</summary>\n",
       "\t<ol class=list-inline>\n",
       "\t\t<li>'1'</li>\n",
       "\t\t<li>'2'</li>\n",
       "\t\t<li>'3'</li>\n",
       "\t\t<li>'4'</li>\n",
       "\t\t<li>NA</li>\n",
       "\t</ol>\n",
       "</details>"
      ],
      "text/latex": [
       "\\begin{enumerate*}\n",
       "\\item 2\n",
       "\\item 3\n",
       "\\item 1\n",
       "\\item <NA>\n",
       "\\item 4\n",
       "\\end{enumerate*}\n",
       "\n",
       "\\emph{Levels}: \\begin{enumerate*}\n",
       "\\item '1'\n",
       "\\item '2'\n",
       "\\item '3'\n",
       "\\item '4'\n",
       "\\item NA\n",
       "\\end{enumerate*}\n"
      ],
      "text/markdown": [
       "1. 2\n",
       "2. 3\n",
       "3. 1\n",
       "4. &lt;NA&gt;\n",
       "5. 4\n",
       "\n",
       "\n",
       "\n",
       "**Levels**: 1. '1'\n",
       "2. '2'\n",
       "3. '3'\n",
       "4. '4'\n",
       "5. NA\n",
       "\n",
       "\n"
      ],
      "text/plain": [
       "[1] 2    3    1    <NA> 4   \n",
       "Levels: 1 2 3 4 <NA>"
      ]
     },
     "metadata": {},
     "output_type": "display_data"
    }
   ],
   "source": [
    "unique(bCMuestras$BIRADS_breast_density)"
   ]
  },
  {
   "cell_type": "code",
   "execution_count": 25,
   "metadata": {},
   "outputs": [
    {
     "name": "stdout",
     "output_type": "stream",
     "text": [
      "'data.frame':\t5000 obs. of  2 variables:\n",
      " $ BIRADS_breast_density: Factor w/ 5 levels \"1\",\"2\",\"3\",\"4\",..: 2 2 2 2 3 1 5 5 1 2 ...\n",
      " $ age_Stimated         : num  62 57 47 62 37 52 72 52 67 72 ...\n"
     ]
    }
   ],
   "source": [
    "# Creamos la tabla df_BIRADS que es un subconjunto de la tabla bCMuestras\n",
    "df_BIRADS <- subset(bCMuestras,select = c(BIRADS_breast_density, age_Stimated))\n",
    "\n",
    "# Pasamos a valores numericos la columna $age_Stimated de la tabla df_BIRADS\n",
    "df_BIRADS$age_Stimated <-  as.numeric(as.character(df_Antecedentes_Fam$age_Stimated))\n",
    "str(df_BIRADS)"
   ]
  },
  {
   "cell_type": "code",
   "execution_count": 26,
   "metadata": {},
   "outputs": [],
   "source": [
    "# Dividimos la tabla df_BIRADS en varios subconjuntos\n",
    "df_BIRADS_1 <- df_BIRADS[df_BIRADS$BIRADS_breast_density == \"1\",]\n",
    "# Agregamos una nueva columna $type en la tabla df_BIRADS_1 con el valor \"Almost entirely fat\"\n",
    "df_BIRADS_1$type <- \"Almost entirely fat\"\n",
    "\n",
    "# Dividimos la tabla df_BIRADS en varios subconjuntos\n",
    "df_BIRADS_2 <- df_BIRADS[df_BIRADS$BIRADS_breast_density == \"2\",]\n",
    "# Agregamos una nueva columna $type en la tabla df_BIRADS_2 con valores de \"Scatt. fibroglandular densities\"\n",
    "df_BIRADS_2$type <- \"Scatt. fibroglandular densities\"\n",
    "\n",
    "# Dividimos la tabla df_BIRADS en varios subconjuntos\n",
    "df_BIRADS_3 <- df_BIRADS[df_BIRADS$BIRADS_breast_density == \"3\",]\n",
    "# Agregamos una nueva columna $type en la tabla df_BIRADS_3 con valores de \"Heterogeneously dense\"\n",
    "df_BIRADS_3$type <- \"Heterogeneously dense\"\n",
    "\n",
    "# Dividimos la tabla df_BIRADS en varios subconjuntos\n",
    "df_BIRADS_4 <- df_BIRADS[df_BIRADS$BIRADS_breast_density == \"4\",]\n",
    "# Agregamos una nueva columna $type en la tabla df_BIRADS_4 con valores de \"Extremely dense\"\n",
    "df_BIRADS_4$type <- \"Extremely dense\""
   ]
  },
  {
   "cell_type": "code",
   "execution_count": 27,
   "metadata": {},
   "outputs": [],
   "source": [
    "# Unimos las tablas df_Antecedentes_Fam_0 y df_Antecedentes_Fam_1 en una única tabla\n",
    "df_BIRADS_all <- rbind(df_BIRADS_1,df_BIRADS_2,df_BIRADS_3,df_BIRADS_4)\n",
    "\n",
    "# Pasamos a valores numéricos la columna $first_degree_hx\n",
    "df_BIRADS_all$BIRADS_breast_density <- as.numeric(as.character(df_BIRADS_all$BIRADS_breast_density))"
   ]
  },
  {
   "cell_type": "code",
   "execution_count": 28,
   "metadata": {},
   "outputs": [
    {
     "name": "stdout",
     "output_type": "stream",
     "text": [
      "'data.frame':\t3669 obs. of  3 variables:\n",
      " $ BIRADS_breast_density: num  1 1 1 1 1 1 1 1 1 1 ...\n",
      " $ age_Stimated         : num  52 67 52 32 57 52 72 57 72 47 ...\n",
      " $ type                 : chr  \"Almost entirely fat\" \"Almost entirely fat\" \"Almost entirely fat\" \"Almost entirely fat\" ...\n"
     ]
    },
    {
     "data": {
      "text/html": [
       "<table>\n",
       "<thead><tr><th></th><th scope=col>BIRADS_breast_density</th><th scope=col>age_Stimated</th><th scope=col>type</th></tr></thead>\n",
       "<tbody>\n",
       "\t<tr><th scope=row>1116704.2</th><td>4              </td><td>67             </td><td>Extremely dense</td></tr>\n",
       "\t<tr><th scope=row>367617</th><td>4              </td><td>42             </td><td>Extremely dense</td></tr>\n",
       "\t<tr><th scope=row>564947</th><td>4              </td><td>67             </td><td>Extremely dense</td></tr>\n",
       "\t<tr><th scope=row>888060.1</th><td>4              </td><td>62             </td><td>Extremely dense</td></tr>\n",
       "\t<tr><th scope=row>836940</th><td>4              </td><td>42             </td><td>Extremely dense</td></tr>\n",
       "\t<tr><th scope=row>25832.22</th><td>4              </td><td>47             </td><td>Extremely dense</td></tr>\n",
       "</tbody>\n",
       "</table>\n"
      ],
      "text/latex": [
       "\\begin{tabular}{r|lll}\n",
       "  & BIRADS\\_breast\\_density & age\\_Stimated & type\\\\\n",
       "\\hline\n",
       "\t1116704.2 & 4               & 67              & Extremely dense\\\\\n",
       "\t367617 & 4               & 42              & Extremely dense\\\\\n",
       "\t564947 & 4               & 67              & Extremely dense\\\\\n",
       "\t888060.1 & 4               & 62              & Extremely dense\\\\\n",
       "\t836940 & 4               & 42              & Extremely dense\\\\\n",
       "\t25832.22 & 4               & 47              & Extremely dense\\\\\n",
       "\\end{tabular}\n"
      ],
      "text/markdown": [
       "\n",
       "| <!--/--> | BIRADS_breast_density | age_Stimated | type | \n",
       "|---|---|---|---|---|---|\n",
       "| 1116704.2 | 4               | 67              | Extremely dense | \n",
       "| 367617 | 4               | 42              | Extremely dense | \n",
       "| 564947 | 4               | 67              | Extremely dense | \n",
       "| 888060.1 | 4               | 62              | Extremely dense | \n",
       "| 836940 | 4               | 42              | Extremely dense | \n",
       "| 25832.22 | 4               | 47              | Extremely dense | \n",
       "\n",
       "\n"
      ],
      "text/plain": [
       "          BIRADS_breast_density age_Stimated type           \n",
       "1116704.2 4                     67           Extremely dense\n",
       "367617    4                     42           Extremely dense\n",
       "564947    4                     67           Extremely dense\n",
       "888060.1  4                     62           Extremely dense\n",
       "836940    4                     42           Extremely dense\n",
       "25832.22  4                     47           Extremely dense"
      ]
     },
     "metadata": {},
     "output_type": "display_data"
    }
   ],
   "source": [
    "# En la tabla df_BIRADS_all quitamos todos los valores NA\n",
    "df_BIRADS_all <- na.omit(df_BIRADS_all)\n",
    "\n",
    "# Pasamos a data frame la tabla df_Antecedentes_Fam_all\n",
    "df_BIRADS_all <- data.frame(df_BIRADS_all)\n",
    "str (df_BIRADS_all)\n",
    "tail(df_BIRADS_all)"
   ]
  },
  {
   "cell_type": "code",
   "execution_count": 29,
   "metadata": {},
   "outputs": [
    {
     "data": {
      "text/html": [
       "<table>\n",
       "<thead><tr><th scope=col>edad</th><th scope=col>BIRADS</th><th scope=col>tipo</th></tr></thead>\n",
       "<tbody>\n",
       "\t<tr><td>52                 </td><td>1                  </td><td>Almost entirely fat</td></tr>\n",
       "\t<tr><td>67                 </td><td>1                  </td><td>Almost entirely fat</td></tr>\n",
       "\t<tr><td>52                 </td><td>1                  </td><td>Almost entirely fat</td></tr>\n",
       "\t<tr><td>32                 </td><td>1                  </td><td>Almost entirely fat</td></tr>\n",
       "\t<tr><td>57                 </td><td>1                  </td><td>Almost entirely fat</td></tr>\n",
       "\t<tr><td>52                 </td><td>1                  </td><td>Almost entirely fat</td></tr>\n",
       "</tbody>\n",
       "</table>\n"
      ],
      "text/latex": [
       "\\begin{tabular}{r|lll}\n",
       " edad & BIRADS & tipo\\\\\n",
       "\\hline\n",
       "\t 52                  & 1                   & Almost entirely fat\\\\\n",
       "\t 67                  & 1                   & Almost entirely fat\\\\\n",
       "\t 52                  & 1                   & Almost entirely fat\\\\\n",
       "\t 32                  & 1                   & Almost entirely fat\\\\\n",
       "\t 57                  & 1                   & Almost entirely fat\\\\\n",
       "\t 52                  & 1                   & Almost entirely fat\\\\\n",
       "\\end{tabular}\n"
      ],
      "text/markdown": [
       "\n",
       "edad | BIRADS | tipo | \n",
       "|---|---|---|---|---|---|\n",
       "| 52                  | 1                   | Almost entirely fat | \n",
       "| 67                  | 1                   | Almost entirely fat | \n",
       "| 52                  | 1                   | Almost entirely fat | \n",
       "| 32                  | 1                   | Almost entirely fat | \n",
       "| 57                  | 1                   | Almost entirely fat | \n",
       "| 52                  | 1                   | Almost entirely fat | \n",
       "\n",
       "\n"
      ],
      "text/plain": [
       "  edad BIRADS tipo               \n",
       "1 52   1      Almost entirely fat\n",
       "2 67   1      Almost entirely fat\n",
       "3 52   1      Almost entirely fat\n",
       "4 32   1      Almost entirely fat\n",
       "5 57   1      Almost entirely fat\n",
       "6 52   1      Almost entirely fat"
      ]
     },
     "metadata": {},
     "output_type": "display_data"
    }
   ],
   "source": [
    "# Creamos una nueva tabla en la que renombramos las columnas\n",
    "df_BIRADS_all_graf <- data.frame(edad=df_BIRADS_all$age_Stimated, BIRADS = df_BIRADS_all$BIRADS_breast_density, tipo =df_BIRADS_all$type )\n",
    "head(df_BIRADS_all_graf)"
   ]
  },
  {
   "cell_type": "code",
   "execution_count": 30,
   "metadata": {},
   "outputs": [
    {
     "data": {},
     "metadata": {},
     "output_type": "display_data"
    },
    {
     "data": {
      "image/png": "[encoded data removed]",
      "text/plain": [
       "plot without title"
      ]
     },
     "metadata": {},
     "output_type": "display_data"
    }
   ],
   "source": [
    "library(ggplot2)\n",
    "ggplot(df_BIRADS_all_graf, aes(x=BIRADS, y=edad, fill = tipo, group=tipo)) +\n",
    "    geom_boxplot(color=\"black\", notch=TRUE)+\n",
    "    scale_x_continuous(breaks=c(1,2,3,4))+\n",
    "    scale_y_continuous(breaks=c(10,20,30,40,50,60,70,80,90,100))"
   ]
  },
  {
   "cell_type": "markdown",
   "metadata": {},
   "source": [
    "¿Existe una evidencia estadística significativa para decir que la edad en la que se detecta el cancer depende de la densidad del cancer (BIRADS)?\n",
    "\n",
    "¿Que test habría que aplicar?"
   ]
  },
  {
   "cell_type": "code",
   "execution_count": null,
   "metadata": {},
   "outputs": [],
   "source": [
    "# Caracterizamos la edad en la que se detecta el cancer depende de la densidad del cáncer"
   ]
  },
  {
   "cell_type": "code",
   "execution_count": 31,
   "metadata": {},
   "outputs": [
    {
     "name": "stdout",
     "output_type": "stream",
     "text": [
      "[1] \" La media de la edad de tener cancer y tener un BIRADS 1 es 60.3973\"\n",
      "[1] \" La media de la edad de tener cancer y tener un BIRADS 2 es 58.6841\"\n",
      "[1] \" La media de la edad de tener cancer y tener un BIRADS 3 es 55.2633\"\n",
      "[1] \" La media de la edad de tener cancer y tener un BIRADS 4 es 50.7969\"\n"
     ]
    }
   ],
   "source": [
    "# Calculamos la media de la edad con el BIRADS\n",
    "mean_B1 <- mean(df_BIRADS_all$age_Stimated[df_BIRADS_all$BIRADS_breast_density==1])\n",
    "print(paste(\" La media de la edad de tener cancer y tener un BIRADS 1 es\", round(mean_B1,4)))\n",
    "mean_B2 <- mean(df_BIRADS_all$age_Stimated[df_BIRADS_all$BIRADS_breast_density==2])\n",
    "print(paste(\" La media de la edad de tener cancer y tener un BIRADS 2 es\", round(mean_B2,4)))\n",
    "mean_B3 <- mean(df_BIRADS_all$age_Stimated[df_BIRADS_all$BIRADS_breast_density==3])\n",
    "print(paste(\" La media de la edad de tener cancer y tener un BIRADS 3 es\", round(mean_B3,4)))\n",
    "mean_B4 <- mean(df_BIRADS_all$age_Stimated[df_BIRADS_all$BIRADS_breast_density==4])\n",
    "print(paste(\" La media de la edad de tener cancer y tener un BIRADS 4 es\", round(mean_B4,4)))"
   ]
  },
  {
   "cell_type": "code",
   "execution_count": 32,
   "metadata": {},
   "outputs": [
    {
     "name": "stdout",
     "output_type": "stream",
     "text": [
      "[1] \" La varianza de la edad de tener cancer y tener un BIRADS 1 es 153.1659\"\n",
      "[1] \" La varianza de la edad de tener cancer y tener un BIRADS 2 es 58.6841\"\n",
      "[1] \" La varianza de la edad de tener cancer y tener un BIRADS 3 es 55.2633\"\n",
      "[1] \" La varianza de la edad de tener cancer y tener un BIRADS 4 es 50.7969\"\n"
     ]
    }
   ],
   "source": [
    "# Calculamos la varianza de la edad con el BIRADS\n",
    "var_B1 <- var(df_BIRADS_all$age_Stimated[df_BIRADS_all$BIRADS_breast_density==1])\n",
    "print(paste(\" La varianza de la edad de tener cancer y tener un BIRADS 1 es\", round(var_B1,4)))\n",
    "var_B2 <- mean(df_BIRADS_all$age_Stimated[df_BIRADS_all$BIRADS_breast_density==2])\n",
    "print(paste(\" La varianza de la edad de tener cancer y tener un BIRADS 2 es\", round(var_B2,4)))\n",
    "var_B3 <- mean(df_BIRADS_all$age_Stimated[df_BIRADS_all$BIRADS_breast_density==3])\n",
    "print(paste(\" La varianza de la edad de tener cancer y tener un BIRADS 3 es\", round(var_B3,4)))\n",
    "var_B4 <- mean(df_BIRADS_all$age_Stimated[df_BIRADS_all$BIRADS_breast_density==4])\n",
    "print(paste(\" La varianza de la edad de tener cancer y tener un BIRADS 4 es\", round(var_B4,4)))"
   ]
  },
  {
   "cell_type": "code",
   "execution_count": 33,
   "metadata": {},
   "outputs": [
    {
     "name": "stdout",
     "output_type": "stream",
     "text": [
      "[1] \"Test de Shapiro para la edad de tener cancer y tener un BIRADS 1 es: 0.000146333957\"\n",
      "[1] \"Test de Shapiro para la edad de tener cancer y tener un BIRADS 2 es: 0\"\n",
      "[1] \"Test de Shapiro para la edad de tener cancer y tener un BIRADS 3 es: 0\"\n",
      "[1] \"Test de Shapiro para la edad de tener cancer y tener un BIRADS 4 es: 2.101e-09\"\n"
     ]
    }
   ],
   "source": [
    "# Calculamos el test de Shapiro de la edad con el BIRADS\n",
    "shap_B1 <- shapiro.test(df_BIRADS_all$age_Stimated[df_BIRADS_all$BIRADS_breast_density==1])$p.value\n",
    "print(paste(\"Test de Shapiro para la edad de tener cancer y tener un BIRADS 1 es:\",round(shap_B1,12)))\n",
    "\n",
    "shap_B2 <- shapiro.test(df_BIRADS_all$age_Stimated[df_BIRADS_all$BIRADS_breast_density==2])$p.value\n",
    "print(paste(\"Test de Shapiro para la edad de tener cancer y tener un BIRADS 2 es:\",round(shap_B2,12)))\n",
    "\n",
    "shap_B3 <- shapiro.test(df_BIRADS_all$age_Stimated[df_BIRADS_all$BIRADS_breast_density==3])$p.value\n",
    "print(paste(\"Test de Shapiro para la edad de tener cancer y tener un BIRADS 3 es:\",round(shap_B3,12)))\n",
    "\n",
    "shap_B4 <- shapiro.test(df_BIRADS_all$age_Stimated[df_BIRADS_all$BIRADS_breast_density==4])$p.value\n",
    "print(paste(\"Test de Shapiro para la edad de tener cancer y tener un BIRADS 4 es:\",round(shap_B4,12)))\n"
   ]
  },
  {
   "cell_type": "markdown",
   "metadata": {},
   "source": [
    "* Como el p-value que nos dan en el test de Shapiro es menor que 0,005 concluimos que no sigue una distribución normal"
   ]
  },
  {
   "cell_type": "code",
   "execution_count": 34,
   "metadata": {},
   "outputs": [
    {
     "data": {
      "text/plain": [
       "\n",
       "\tBartlett test of homogeneity of variances\n",
       "\n",
       "data:  edad by BIRADS\n",
       "Bartlett's K-squared = 20.28, df = 3, p-value = 0.0001485\n"
      ]
     },
     "metadata": {},
     "output_type": "display_data"
    }
   ],
   "source": [
    "# Aplicamos el test de Bartlett\n",
    "bartlett.test(edad~BIRADS, data = df_BIRADS_all_graf)"
   ]
  },
  {
   "cell_type": "markdown",
   "metadata": {},
   "source": [
    "* En el test de Bartlett obtenemos un p-value muy bajo, menor de 0.005 , por lo que cogemos la H1 donde las varianzas son distintas"
   ]
  },
  {
   "cell_type": "code",
   "execution_count": 37,
   "metadata": {},
   "outputs": [
    {
     "data": {
      "text/plain": [
       "\n",
       "\tKruskal-Wallis rank sum test\n",
       "\n",
       "data:  edad by BIRADS\n",
       "Kruskal-Wallis chi-squared = 156.19, df = 3, p-value < 2.2e-16\n"
      ]
     },
     "metadata": {},
     "output_type": "display_data"
    }
   ],
   "source": [
    "# Aplicamos el Kruskal–Wallis test\n",
    "#wilcox.test(mpg ~ am, data=mtcars)\n",
    "kruskal.test(edad~BIRADS, data = df_BIRADS_all_graf)"
   ]
  },
  {
   "cell_type": "markdown",
   "metadata": {},
   "source": [
    "* Como el test de Kruskal nos sale un valor de p-value < 0.001 concluimos que la edad no es la misma en cada uno de los 4 tipos de cancer"
   ]
  },
  {
   "cell_type": "markdown",
   "metadata": {},
   "source": [
    "#### Tablas de contingencia: BIRADS"
   ]
  },
  {
   "cell_type": "markdown",
   "metadata": {},
   "source": [
    "¿Todos los  tipos de cancer (BIRADS) son igual de probables? ¿Con que test lo comprobarías?"
   ]
  },
  {
   "cell_type": "code",
   "execution_count": 42,
   "metadata": {},
   "outputs": [
    {
     "data": {
      "text/plain": [
       "\n",
       "   1    2    3    4 \n",
       " 297 1665 1451  256 "
      ]
     },
     "metadata": {},
     "output_type": "display_data"
    }
   ],
   "source": [
    "# Frecuencia de cada tipo de BIRADS\n",
    "tableBirads <- table(df_BIRADS_all$BIRADS_breast_density)\n",
    "tableBirads"
   ]
  },
  {
   "cell_type": "code",
   "execution_count": 45,
   "metadata": {},
   "outputs": [
    {
     "data": {
      "text/plain": [
       "\n",
       "        1         2         3         4 \n",
       " 8.094849 45.380213 39.547561  6.977378 "
      ]
     },
     "metadata": {},
     "output_type": "display_data"
    }
   ],
   "source": [
    "# Porcentaje de cada tipo de BIRADS \n",
    "probBirads <- prop.table(mytable)*100\n",
    "probBirads"
   ]
  },
  {
   "cell_type": "code",
   "execution_count": 46,
   "metadata": {},
   "outputs": [
    {
     "data": {
      "text/plain": [
       "\n",
       "\tChi-squared test for given probabilities\n",
       "\n",
       "data:  probBirads\n",
       "X-squared = 49.503, df = 3, p-value = 1.019e-10\n"
      ]
     },
     "metadata": {},
     "output_type": "display_data"
    }
   ],
   "source": [
    "# Mediante un Test de Chi cuadrado\n",
    "chisq.test(probBirads)"
   ]
  },
  {
   "cell_type": "code",
   "execution_count": null,
   "metadata": {},
   "outputs": [],
   "source": [
    "table(dfchurn[,c(col,\"Churn\")])\n",
    "chisq.test(table(dfchurn[,c(col,\"Churn\")]))"
   ]
  },
  {
   "cell_type": "markdown",
   "metadata": {},
   "source": [
    "¿Cual es el tipo de cancer (BIRADS) más común? ¿Con qué proporción?"
   ]
  },
  {
   "cell_type": "code",
   "execution_count": 51,
   "metadata": {},
   "outputs": [
    {
     "name": "stdout",
     "output_type": "stream",
     "text": [
      "[1] \"El cancer mas común de tipo 2  45.38\"\n"
     ]
    }
   ],
   "source": [
    "print(paste(\"El cancer mas común de tipo 2 \",round(probBirads[2],2)))"
   ]
  },
  {
   "cell_type": "markdown",
   "metadata": {},
   "source": [
    "¿Depende el tipo de cancer (BIRADS) de si ha habido o no antecedentes familiares?"
   ]
  },
  {
   "cell_type": "code",
   "execution_count": 53,
   "metadata": {},
   "outputs": [
    {
     "name": "stdout",
     "output_type": "stream",
     "text": [
      "'data.frame':\t5000 obs. of  13 variables:\n",
      " $ year                 : int  2006 2008 2007 2008 2004 2001 2002 2004 2006 2009 ...\n",
      " $ age_group_5_years    : int  8 7 5 8 3 6 10 6 9 10 ...\n",
      " $ race_eth             : Factor w/ 7 levels \"1\",\"2\",\"3\",\"4\",..: 7 2 1 1 1 5 1 7 7 1 ...\n",
      " $ first_degree_hx      : Factor w/ 3 levels \"0\",\"1\",NA: 3 1 1 2 1 1 1 3 1 3 ...\n",
      " $ age_menarche         : Factor w/ 4 levels \"0\",\"1\",\"2\",NA: 4 4 4 2 4 4 4 4 4 3 ...\n",
      " $ age_first_birth      : Factor w/ 6 levels \"0\",\"1\",\"2\",\"3\",..: 6 6 6 2 6 6 6 6 2 6 ...\n",
      " $ BIRADS_breast_density: Factor w/ 5 levels \"1\",\"2\",\"3\",\"4\",..: 2 2 2 2 3 1 5 5 1 2 ...\n",
      " $ current_hrt          : Factor w/ 3 levels \"0\",\"1\",NA: 3 1 1 1 1 2 1 3 1 1 ...\n",
      " $ menopaus             : Factor w/ 4 levels \"1\",\"2\",\"3\",NA: 2 2 1 2 1 2 2 4 2 2 ...\n",
      " $ bmi_group            : Factor w/ 5 levels \"1\",\"2\",\"3\",\"4\",..: 5 5 5 2 2 3 2 5 5 2 ...\n",
      " $ biophx               : Factor w/ 3 levels \"0\",\"1\",NA: 1 1 1 1 1 1 1 3 1 1 ...\n",
      " $ breast_cancer_history: Factor w/ 3 levels \"0\",\"1\",NA: 1 1 1 1 1 1 1 3 1 1 ...\n",
      " $ age_Stimated         : num  62 57 47 62 37 52 72 52 67 72 ...\n"
     ]
    }
   ],
   "source": [
    "str(bCMuestras)"
   ]
  },
  {
   "cell_type": "code",
   "execution_count": 57,
   "metadata": {},
   "outputs": [],
   "source": [
    "# Pasamos a valores númericas las columnas $first_degree_hx y $BIRADS_breast_density\n",
    "bCMuestras$first_degree_hx <- as.numeric(as.character(bCMuestras$first_degree_hx))\n",
    "bCMuestras$BIRADS_breast_density <- as.numeric(as.character(bCMuestras$BIRADS_breast_density))\n",
    "\n",
    "# Omitimos los NA del data frame bCMuestras_2\n",
    "bCMuestras_1 <- na.omit(bCMuestras)"
   ]
  },
  {
   "cell_type": "code",
   "execution_count": 58,
   "metadata": {},
   "outputs": [
    {
     "data": {
      "text/plain": [
       "\n",
       "Call:\n",
       "lm(formula = BIRADS_breast_density ~ first_degree_hx, data = bCMuestras_1)\n",
       "\n",
       "Residuals:\n",
       "    Min      1Q  Median      3Q     Max \n",
       "-1.4550 -0.4499 -0.4499  0.5501  1.5501 \n",
       "\n",
       "Coefficients:\n",
       "                Estimate Std. Error t value Pr(>|t|)    \n",
       "(Intercept)     2.449861   0.013786 177.703   <2e-16 ***\n",
       "first_degree_hx 0.005157   0.033682   0.153    0.878    \n",
       "---\n",
       "Signif. codes:  0 ‘***’ 0.001 ‘**’ 0.01 ‘*’ 0.05 ‘.’ 0.1 ‘ ’ 1\n",
       "\n",
       "Residual standard error: 0.7388 on 3448 degrees of freedom\n",
       "Multiple R-squared:  6.798e-06,\tAdjusted R-squared:  -0.0002832 \n",
       "F-statistic: 0.02344 on 1 and 3448 DF,  p-value: 0.8783\n"
      ]
     },
     "metadata": {},
     "output_type": "display_data"
    }
   ],
   "source": [
    "\n",
    "summary(lm(data = bCMuestras_1, BIRADS_breast_density~first_degree_hx))"
   ]
  },
  {
   "cell_type": "markdown",
   "metadata": {},
   "source": [
    "* p-value es alta por lo que existe una dependencia entre el tipo de cáncer y los antecedentes familiares"
   ]
  },
  {
   "cell_type": "markdown",
   "metadata": {},
   "source": [
    "¿Depende el tipo de cancer BIRADS del grupo étnico?"
   ]
  },
  {
   "cell_type": "code",
   "execution_count": 60,
   "metadata": {},
   "outputs": [
    {
     "data": {
      "text/html": [
       "<ol class=list-inline>\n",
       "\t<li>&lt;NA&gt;</li>\n",
       "\t<li>2</li>\n",
       "\t<li>1</li>\n",
       "\t<li>5</li>\n",
       "\t<li>3</li>\n",
       "\t<li>6</li>\n",
       "\t<li>4</li>\n",
       "</ol>\n",
       "\n",
       "<details>\n",
       "\t<summary style=display:list-item;cursor:pointer>\n",
       "\t\t<strong>Levels</strong>:\n",
       "\t</summary>\n",
       "\t<ol class=list-inline>\n",
       "\t\t<li>'1'</li>\n",
       "\t\t<li>'2'</li>\n",
       "\t\t<li>'3'</li>\n",
       "\t\t<li>'4'</li>\n",
       "\t\t<li>'5'</li>\n",
       "\t\t<li>'6'</li>\n",
       "\t\t<li>NA</li>\n",
       "\t</ol>\n",
       "</details>"
      ],
      "text/latex": [
       "\\begin{enumerate*}\n",
       "\\item <NA>\n",
       "\\item 2\n",
       "\\item 1\n",
       "\\item 5\n",
       "\\item 3\n",
       "\\item 6\n",
       "\\item 4\n",
       "\\end{enumerate*}\n",
       "\n",
       "\\emph{Levels}: \\begin{enumerate*}\n",
       "\\item '1'\n",
       "\\item '2'\n",
       "\\item '3'\n",
       "\\item '4'\n",
       "\\item '5'\n",
       "\\item '6'\n",
       "\\item NA\n",
       "\\end{enumerate*}\n"
      ],
      "text/markdown": [
       "1. &lt;NA&gt;\n",
       "2. 2\n",
       "3. 1\n",
       "4. 5\n",
       "5. 3\n",
       "6. 6\n",
       "7. 4\n",
       "\n",
       "\n",
       "\n",
       "**Levels**: 1. '1'\n",
       "2. '2'\n",
       "3. '3'\n",
       "4. '4'\n",
       "5. '5'\n",
       "6. '6'\n",
       "7. NA\n",
       "\n",
       "\n"
      ],
      "text/plain": [
       "[1] <NA> 2    1    5    3    6    4   \n",
       "Levels: 1 2 3 4 5 6 <NA>"
      ]
     },
     "metadata": {},
     "output_type": "display_data"
    }
   ],
   "source": [
    "unique(bCMuestras$race_eth)"
   ]
  },
  {
   "cell_type": "code",
   "execution_count": 61,
   "metadata": {},
   "outputs": [
    {
     "name": "stdout",
     "output_type": "stream",
     "text": [
      "'data.frame':\t5000 obs. of  13 variables:\n",
      " $ year                 : int  2006 2008 2007 2008 2004 2001 2002 2004 2006 2009 ...\n",
      " $ age_group_5_years    : int  8 7 5 8 3 6 10 6 9 10 ...\n",
      " $ race_eth             : Factor w/ 7 levels \"1\",\"2\",\"3\",\"4\",..: 7 2 1 1 1 5 1 7 7 1 ...\n",
      " $ first_degree_hx      : num  NA 0 0 1 0 0 0 NA 0 NA ...\n",
      " $ age_menarche         : Factor w/ 4 levels \"0\",\"1\",\"2\",NA: 4 4 4 2 4 4 4 4 4 3 ...\n",
      " $ age_first_birth      : Factor w/ 6 levels \"0\",\"1\",\"2\",\"3\",..: 6 6 6 2 6 6 6 6 2 6 ...\n",
      " $ BIRADS_breast_density: num  2 2 2 2 3 1 NA NA 1 2 ...\n",
      " $ current_hrt          : Factor w/ 3 levels \"0\",\"1\",NA: 3 1 1 1 1 2 1 3 1 1 ...\n",
      " $ menopaus             : Factor w/ 4 levels \"1\",\"2\",\"3\",NA: 2 2 1 2 1 2 2 4 2 2 ...\n",
      " $ bmi_group            : Factor w/ 5 levels \"1\",\"2\",\"3\",\"4\",..: 5 5 5 2 2 3 2 5 5 2 ...\n",
      " $ biophx               : Factor w/ 3 levels \"0\",\"1\",NA: 1 1 1 1 1 1 1 3 1 1 ...\n",
      " $ breast_cancer_history: Factor w/ 3 levels \"0\",\"1\",NA: 1 1 1 1 1 1 1 3 1 1 ...\n",
      " $ age_Stimated         : num  62 57 47 62 37 52 72 52 67 72 ...\n"
     ]
    }
   ],
   "source": [
    "str(bCMuestras)"
   ]
  },
  {
   "cell_type": "code",
   "execution_count": 63,
   "metadata": {},
   "outputs": [],
   "source": [
    "bCMuestras$race_eth <- as.numeric(as.character(bCMuestras$race_eth))\n",
    "bCMuestras_2 <- na.omit(bCMuestras)"
   ]
  },
  {
   "cell_type": "code",
   "execution_count": 64,
   "metadata": {},
   "outputs": [
    {
     "data": {
      "text/plain": [
       "\n",
       "Call:\n",
       "lm(formula = BIRADS_breast_density ~ race_eth, data = bCMuestras_2)\n",
       "\n",
       "Residuals:\n",
       "    Min      1Q  Median      3Q     Max \n",
       "-1.5275 -0.4474 -0.4474  0.5526  1.5526 \n",
       "\n",
       "Coefficients:\n",
       "            Estimate Std. Error t value Pr(>|t|)    \n",
       "(Intercept)  2.43137    0.02141 113.584   <2e-16 ***\n",
       "race_eth     0.01602    0.01099   1.458    0.145    \n",
       "---\n",
       "Signif. codes:  0 ‘***’ 0.001 ‘**’ 0.01 ‘*’ 0.05 ‘.’ 0.1 ‘ ’ 1\n",
       "\n",
       "Residual standard error: 0.7416 on 3111 degrees of freedom\n",
       "Multiple R-squared:  0.0006828,\tAdjusted R-squared:  0.0003616 \n",
       "F-statistic: 2.126 on 1 and 3111 DF,  p-value: 0.1449\n"
      ]
     },
     "metadata": {},
     "output_type": "display_data"
    }
   ],
   "source": [
    "summary(lm(data = bCMuestras_2, BIRADS_breast_density~race_eth))"
   ]
  },
  {
   "cell_type": "markdown",
   "metadata": {},
   "source": [
    "* A pesar de que hay un p-value elevado, el R^2 es bajo. Por lo que no hay na dependencia entre el tipo de cáncer y la raza"
   ]
  },
  {
   "cell_type": "markdown",
   "metadata": {},
   "source": [
    "¿Cual es la probabilidad (con su margen de error del 95%) de que un *Native American* tenga un cancer de tipo *Almost entirely fat*?\n",
    "\n",
    "*Aviso*: Cuidado con los NA"
   ]
  },
  {
   "cell_type": "code",
   "execution_count": null,
   "metadata": {},
   "outputs": [],
   "source": [
    "#Lo que hay que hacer primero es filtrar por \"Native American\" y quedarse solo con la columna  BIRADS_breast_density.\n",
    "#Aquí es donde se eliminan los NA, y se calcula la proporción."
   ]
  },
  {
   "cell_type": "code",
   "execution_count": 104,
   "metadata": {},
   "outputs": [],
   "source": [
    "# Creamos la tabla df_race que es un subconjunto de la tabla bCMuestras\n",
    "df_bCrace <- subset(bCMuestras,select = c(race_eth, BIRADS_breast_density))"
   ]
  },
  {
   "cell_type": "code",
   "execution_count": 105,
   "metadata": {},
   "outputs": [
    {
     "data": {
      "text/html": [
       "<table>\n",
       "<thead><tr><th></th><th scope=col>race_eth</th><th scope=col>BIRADS_breast_density</th></tr></thead>\n",
       "<tbody>\n",
       "\t<tr><th scope=row>NA.603</th><td>NA</td><td>NA</td></tr>\n",
       "\t<tr><th scope=row>NA.604</th><td>NA</td><td>NA</td></tr>\n",
       "\t<tr><th scope=row>NA.605</th><td>NA</td><td>NA</td></tr>\n",
       "\t<tr><th scope=row>NA.606</th><td>NA</td><td>NA</td></tr>\n",
       "\t<tr><th scope=row>NA.607</th><td>NA</td><td>NA</td></tr>\n",
       "\t<tr><th scope=row>NA.608</th><td>NA</td><td>NA</td></tr>\n",
       "</tbody>\n",
       "</table>\n"
      ],
      "text/latex": [
       "\\begin{tabular}{r|ll}\n",
       "  & race\\_eth & BIRADS\\_breast\\_density\\\\\n",
       "\\hline\n",
       "\tNA.603 & NA & NA\\\\\n",
       "\tNA.604 & NA & NA\\\\\n",
       "\tNA.605 & NA & NA\\\\\n",
       "\tNA.606 & NA & NA\\\\\n",
       "\tNA.607 & NA & NA\\\\\n",
       "\tNA.608 & NA & NA\\\\\n",
       "\\end{tabular}\n"
      ],
      "text/markdown": [
       "\n",
       "| <!--/--> | race_eth | BIRADS_breast_density | \n",
       "|---|---|---|---|---|---|\n",
       "| NA.603 | NA | NA | \n",
       "| NA.604 | NA | NA | \n",
       "| NA.605 | NA | NA | \n",
       "| NA.606 | NA | NA | \n",
       "| NA.607 | NA | NA | \n",
       "| NA.608 | NA | NA | \n",
       "\n",
       "\n"
      ],
      "text/plain": [
       "       race_eth BIRADS_breast_density\n",
       "NA.603 NA       NA                   \n",
       "NA.604 NA       NA                   \n",
       "NA.605 NA       NA                   \n",
       "NA.606 NA       NA                   \n",
       "NA.607 NA       NA                   \n",
       "NA.608 NA       NA                   "
      ]
     },
     "metadata": {},
     "output_type": "display_data"
    }
   ],
   "source": [
    "# Dividimos la tabla df_BIRADS en varios subconjuntos\n",
    "df_bC_Americanos <- df_bCrace[df_bCrace$race_eth == 4,]\n",
    "tail(df_bC_Americanos)"
   ]
  },
  {
   "cell_type": "code",
   "execution_count": 106,
   "metadata": {},
   "outputs": [],
   "source": [
    "#df_Regions_Graph <- data.frame(region=df_Regions$Country.Code, year=df_Regions$variable , TotalCO2=df_Regions$value)\n",
    "df_americanos_Birads <- data.frame(americanos_Birads =df_bC_Americanos$BIRADS_breast_density)"
   ]
  },
  {
   "cell_type": "code",
   "execution_count": 107,
   "metadata": {},
   "outputs": [
    {
     "name": "stdout",
     "output_type": "stream",
     "text": [
      "'data.frame':\t635 obs. of  1 variable:\n",
      " $ americanos_Birads: num  NA NA NA NA NA NA NA NA NA NA ...\n"
     ]
    }
   ],
   "source": [
    "str(df_americanos_Birads)"
   ]
  },
  {
   "cell_type": "code",
   "execution_count": 70,
   "metadata": {},
   "outputs": [
    {
     "data": {
      "text/html": [
       "<ol class=list-inline>\n",
       "\t<li>&lt;NA&gt;</li>\n",
       "\t<li>4</li>\n",
       "</ol>\n"
      ],
      "text/latex": [
       "\\begin{enumerate*}\n",
       "\\item <NA>\n",
       "\\item 4\n",
       "\\end{enumerate*}\n"
      ],
      "text/markdown": [
       "1. &lt;NA&gt;\n",
       "2. 4\n",
       "\n",
       "\n"
      ],
      "text/plain": [
       "[1] NA  4"
      ]
     },
     "metadata": {},
     "output_type": "display_data"
    }
   ],
   "source": [
    "#unique(df_bC_Americanos$race_eth)"
   ]
  },
  {
   "cell_type": "code",
   "execution_count": 112,
   "metadata": {},
   "outputs": [
    {
     "data": {
      "text/html": [
       "<table>\n",
       "<thead><tr><th></th><th scope=col>americanos_Birads</th></tr></thead>\n",
       "<tbody>\n",
       "\t<tr><th scope=row>17</th><td>3</td></tr>\n",
       "\t<tr><th scope=row>29</th><td>3</td></tr>\n",
       "\t<tr><th scope=row>78</th><td>2</td></tr>\n",
       "\t<tr><th scope=row>92</th><td>4</td></tr>\n",
       "\t<tr><th scope=row>109</th><td>3</td></tr>\n",
       "\t<tr><th scope=row>114</th><td>1</td></tr>\n",
       "</tbody>\n",
       "</table>\n"
      ],
      "text/latex": [
       "\\begin{tabular}{r|l}\n",
       "  & americanos\\_Birads\\\\\n",
       "\\hline\n",
       "\t17 & 3\\\\\n",
       "\t29 & 3\\\\\n",
       "\t78 & 2\\\\\n",
       "\t92 & 4\\\\\n",
       "\t109 & 3\\\\\n",
       "\t114 & 1\\\\\n",
       "\\end{tabular}\n"
      ],
      "text/markdown": [
       "\n",
       "| <!--/--> | americanos_Birads | \n",
       "|---|---|---|---|---|---|\n",
       "| 17 | 3 | \n",
       "| 29 | 3 | \n",
       "| 78 | 2 | \n",
       "| 92 | 4 | \n",
       "| 109 | 3 | \n",
       "| 114 | 1 | \n",
       "\n",
       "\n"
      ],
      "text/plain": [
       "    americanos_Birads\n",
       "17  3                \n",
       "29  3                \n",
       "78  2                \n",
       "92  4                \n",
       "109 3                \n",
       "114 1                "
      ]
     },
     "metadata": {},
     "output_type": "display_data"
    },
    {
     "name": "stdout",
     "output_type": "stream",
     "text": [
      "'data.frame':\t17 obs. of  1 variable:\n",
      " $ americanos_Birads: num  3 3 2 4 3 1 4 2 2 3 ...\n",
      " - attr(*, \"na.action\")=Class 'omit'  Named int [1:618] 1 2 3 4 5 6 7 8 9 10 ...\n",
      "  .. ..- attr(*, \"names\")= chr [1:618] \"1\" \"2\" \"3\" \"4\" ...\n"
     ]
    }
   ],
   "source": [
    "# Eliminamos los valores NA del dataframe df_americanos_Birads\n",
    "df_americanos_Birads <- na.omit(df_americanos_Birads)\n",
    "head(df_americanos_Birads)\n",
    "str(df_americanos_Birads)"
   ]
  },
  {
   "cell_type": "code",
   "execution_count": 131,
   "metadata": {},
   "outputs": [
    {
     "data": {
      "text/plain": [
       "\n",
       "1 2 3 4 \n",
       "1 7 6 3 "
      ]
     },
     "metadata": {},
     "output_type": "display_data"
    }
   ],
   "source": [
    "# Hacemos una tabla de conteos con la columna $americanos_Birads\n",
    "mytable <- table(df_americanos_Birads$americanos_Birads)\n",
    "mytable\n"
   ]
  },
  {
   "cell_type": "code",
   "execution_count": 139,
   "metadata": {},
   "outputs": [
    {
     "data": {
      "text/plain": [
       "\n",
       "         1          2          3          4 \n",
       "0.05882353 0.41176471 0.35294118 0.17647059 "
      ]
     },
     "metadata": {},
     "output_type": "display_data"
    }
   ],
   "source": [
    "# Calculamos una tabla de proporciones\n",
    "mytable_1 <- prop.table(mytable)\n",
    "mytable_1"
   ]
  },
  {
   "cell_type": "code",
   "execution_count": 156,
   "metadata": {},
   "outputs": [
    {
     "name": "stdout",
     "output_type": "stream",
     "text": [
      "[1] \"La probabilidad de que un americano nativo tenga cancer del tipo dos es  41.1765 % \"\n"
     ]
    }
   ],
   "source": [
    "print(paste(\"La probabilidad de que un americano nativo tenga cancer del tipo dos es \" ,round(mytable_1[2]*100,4),\"% de probabilidad \"))\n"
   ]
  },
  {
   "cell_type": "code",
   "execution_count": null,
   "metadata": {},
   "outputs": [],
   "source": []
  }
 ],
 "metadata": {
  "kernelspec": {
   "display_name": "R",
   "language": "R",
   "name": "ir"
  },
  "language_info": {
   "codemirror_mode": "r",
   "file_extension": ".r",
   "mimetype": "text/x-r-source",
   "name": "R",
   "pygments_lexer": "r",
   "version": "3.2.3"
  }
 },
 "nbformat": 4,
 "nbformat_minor": 1
}
